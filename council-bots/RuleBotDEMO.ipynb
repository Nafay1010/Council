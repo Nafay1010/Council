{
 "cells": [
  {
   "cell_type": "markdown",
   "id": "7a8a4b37-07a5-4c6e-ae80-5928252c7307",
   "metadata": {},
   "source": [
    "import "
   ]
  },
  {
   "cell_type": "code",
   "execution_count": 1,
   "id": "2fdfa091-820d-4291-bfa8-e5ea536959f6",
   "metadata": {},
   "outputs": [],
   "source": [
    "import re\n",
    "import random\n"
   ]
  },
  {
   "cell_type": "code",
   "execution_count": null,
   "id": "d2808388-0b51-43a0-9842-8771db08d05c",
   "metadata": {},
   "outputs": [
    {
     "name": "stdin",
     "output_type": "stream",
     "text": [
      "What is your name?\n",
      " Jon\n"
     ]
    }
   ],
   "source": [
    "class RuleBot:\n",
    "    #Negative Responses\n",
    "    negative_responses= (\"no\", \"nah\", \"absolutely not\", \"sorry\", \"not a chance\")\n",
    "    \n",
    "    #exits\n",
    "    exit_commands = (\"quit\", \"exit\", \"goodbye\", \"later\", \"thats all\")\n",
    "    \n",
    "    random_questions = (\n",
    "        \"What brings you here?\\n\",\n",
    "        \"How can I help you?\\n\",\n",
    "        \"Could you decribe yourself a bit more?\\n\",\n",
    "        \"Will you help me learn more about yourself?\\n\",\n",
    "        \"What are your general preferences?\\n\",\n",
    "        \"Do you have a particular place in mind?\\n\",\n",
    "        \"Tell me more about your ideal place\\n\"\n",
    "        )\n",
    "        \n",
    "    def __init__(self):\n",
    "        self.unibabble = {'describe_location_intent' : r'.*\\s*location.*',\n",
    "                          'describe_budget_intent' : r'.*\\s*budget.*',\n",
    "                          'describe_degree_intent' : r'.*\\s*degree.*',\n",
    "                         }\n",
    "        \n",
    "    def greet(self):\n",
    "        self.name = input(\"What is your name?\\n\")\n",
    "        will_help = input(f\"Hi {self.name}, I am PlantBot, I am here to gather your data.\\n\")\n",
    "\n",
    "        if will_help in self.negative_responses:\n",
    "            print(\"Have a nice day\\n\")\n",
    "            return \n",
    "        self.chat()\n",
    "    \n",
    "    def make_exit(self, reply):\n",
    "        for command in self.negative_responses:\n",
    "            print(\"Okay, Have a nice day\\n\")\n",
    "            return True\n",
    "  \n",
    "    def chat(self):\n",
    "        reply = input(random.choice(self.random_questions)).lower()\n",
    "        while not self.make_exit(reply):\n",
    "            reply = input(self.match_reply(reply))\n",
    "            \n",
    "    def match_reply(self, reply):\n",
    "        for key, value in self.unibabble.items():\n",
    "            intent=key\n",
    "            regex_pattern = value\n",
    "            found_match= re.match(regex_pattern, reply)\n",
    "            if found_match and intent == 'describe_budget_intent':\n",
    "                return self.describe_budget_intent()\n",
    "            elif found_match and intent == 'describe_location_intent':\n",
    "                return self.describe_location_intent()\n",
    "            elif found_match and intent == 'describe_degree_intent':\n",
    "                return self.describe_degree_intent()\n",
    "            if not found_match:\n",
    "                return self.no_match_intent()\n",
    "            \n",
    "    def describe_budget_intent(self): ##ALL POSSIBLE INTENTS FOR BUDGET, LOCATION AND DEGREE PROGRAMS\n",
    "        responses =(\"What is your budget?\",\"How much Do you want to spend\",\"How much is your budget range\")\n",
    "        return random.choice(responses)\n",
    "    \n",
    "    def describe_degree_intent(self):\n",
    "        responses =(\"What degree are you interested in?\",\"are there any programs you are looking for?\",\"Have you decided on a program?\",\"What program do you want to do?\")\n",
    "        return random.choice(responses)\n",
    "    \n",
    "    def describe_location_intent(self):\n",
    "        responses =(\"Where are you from?\",\"What is your location?\",\"What area are you from??\",\"Is your location central?\",\"Do you live in a central location\",\"\",\"Test 777\")\n",
    "        return random.choice(responses)\n",
    "    \n",
    "    def no_match_intent(self):\n",
    "        responses =(\"Test 1111\",\"Test 2222\",\"Test 3333\",\"Test 4444\",\"Test 5555\",\"Test 6666\",\"Test 7777\")\n",
    "        return random.choice(responses)\n",
    "    \n",
    "        \n",
    "        \n",
    "\n",
    "PlantBot= RuleBot()\n",
    "PlantBot.greet()"
   ]
  },
  {
   "cell_type": "code",
   "execution_count": 4,
   "id": "66e5194a-a668-4be5-a91e-51f9b05146ad",
   "metadata": {},
   "outputs": [],
   "source": [
    "\n",
    "                      "
   ]
  },
  {
   "cell_type": "code",
   "execution_count": null,
   "id": "19b7aab7-55b0-4941-b94f-bb6c1f50f881",
   "metadata": {},
   "outputs": [],
   "source": []
  }
 ],
 "metadata": {
  "kernelspec": {
   "display_name": "Python 3 (ipykernel)",
   "language": "python",
   "name": "python3"
  },
  "language_info": {
   "codemirror_mode": {
    "name": "ipython",
    "version": 3
   },
   "file_extension": ".py",
   "mimetype": "text/x-python",
   "name": "python",
   "nbconvert_exporter": "python",
   "pygments_lexer": "ipython3",
   "version": "3.9.12"
  }
 },
 "nbformat": 4,
 "nbformat_minor": 5
}
