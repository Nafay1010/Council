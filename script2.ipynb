{
 "cells": [
  {
   "cell_type": "code",
   "execution_count": 2,
   "metadata": {},
   "outputs": [
    {
     "name": "stdout",
     "output_type": "stream",
     "text": [
      "Muhammad Abdul Nafay 21 CS\n",
      "Usman 21 CS\n",
      "Shery 11 EE\n"
     ]
    }
   ],
   "source": [
    "dic = [\n",
    "    {\n",
    "        \"Name\": \"Muhammad Abdul Nafay\",\n",
    "        \"Age\": \"21\",\n",
    "        \"Degree\": \"CS\"\n",
    "    },\n",
    "    {\n",
    "        \"Name\": \"Usman\",\n",
    "        \"Age\": \"21\",\n",
    "        \"Degree\": \"CS\"\n",
    "    },\n",
    "    {\n",
    "        \"Name\": \"Shery\",\n",
    "        \"Age\": \"11\",\n",
    "        \"Degree\": \"EE\"\n",
    "    },\n",
    "]\n",
    "\n",
    "for i in dic:\n",
    "    print(i['Name'], i['Age'], i['Degree'], end=\"\\n\")\n"
   ]
  },
  {
   "cell_type": "code",
   "execution_count": null,
   "metadata": {},
   "outputs": [],
   "source": []
  }
 ],
 "metadata": {
  "kernelspec": {
   "display_name": "Python 3.10.7 64-bit",
   "language": "python",
   "name": "python3"
  },
  "language_info": {
   "codemirror_mode": {
    "name": "ipython",
    "version": 3
   },
   "file_extension": ".py",
   "mimetype": "text/x-python",
   "name": "python",
   "nbconvert_exporter": "python",
   "pygments_lexer": "ipython3",
   "version": "3.10.7"
  },
  "orig_nbformat": 4,
  "vscode": {
   "interpreter": {
    "hash": "f2ccb58c476f33ba3e3aee7ac07234ef6b8217ef24ad64d2a7d4fed1a57c1cd2"
   }
  }
 },
 "nbformat": 4,
 "nbformat_minor": 2
}
