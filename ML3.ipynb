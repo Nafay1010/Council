{
 "cells": [
  {
   "cell_type": "markdown",
   "metadata": {},
   "source": [
    "# Experiment #03\n",
    "#### For this experiment, I will make the features that are ranked fully random, and also to make the number of appearing university to be different aswell"
   ]
  },
  {
   "cell_type": "code",
   "execution_count": 245,
   "metadata": {},
   "outputs": [],
   "source": [
    "import pandas as pd\n",
    "import numpy as np\n",
    "from sklearn.model_selection import train_test_split\n",
    "from sklearn.preprocessing import StandardScaler\n",
    "from sklearn.neighbors import KNeighborsClassifier\n",
    "from sklearn.metrics import confusion_matrix\n",
    "from sklearn.metrics import f1_score\n",
    "from sklearn.metrics import accuracy_score\n",
    "from sklearn import preprocessing\n",
    "\n",
    "from copy import deepcopy"
   ]
  },
  {
   "cell_type": "code",
   "execution_count": 246,
   "metadata": {},
   "outputs": [],
   "source": [
    "df = pd.read_csv('./cwurData_V3.csv')"
   ]
  },
  {
   "cell_type": "code",
   "execution_count": 247,
   "metadata": {},
   "outputs": [
    {
     "data": {
      "text/html": [
       "<div>\n",
       "<style scoped>\n",
       "    .dataframe tbody tr th:only-of-type {\n",
       "        vertical-align: middle;\n",
       "    }\n",
       "\n",
       "    .dataframe tbody tr th {\n",
       "        vertical-align: top;\n",
       "    }\n",
       "\n",
       "    .dataframe thead th {\n",
       "        text-align: right;\n",
       "    }\n",
       "</style>\n",
       "<table border=\"1\" class=\"dataframe\">\n",
       "  <thead>\n",
       "    <tr style=\"text-align: right;\">\n",
       "      <th></th>\n",
       "      <th>quality_of_education</th>\n",
       "      <th>alumni_employment</th>\n",
       "      <th>quality_of_faculty</th>\n",
       "      <th>publications</th>\n",
       "      <th>influence</th>\n",
       "      <th>citations</th>\n",
       "      <th>patents</th>\n",
       "      <th>institution</th>\n",
       "    </tr>\n",
       "  </thead>\n",
       "  <tbody>\n",
       "    <tr>\n",
       "      <th>0</th>\n",
       "      <td>7</td>\n",
       "      <td>9</td>\n",
       "      <td>1</td>\n",
       "      <td>1</td>\n",
       "      <td>1</td>\n",
       "      <td>1</td>\n",
       "      <td>5</td>\n",
       "      <td>0</td>\n",
       "    </tr>\n",
       "    <tr>\n",
       "      <th>1</th>\n",
       "      <td>9</td>\n",
       "      <td>17</td>\n",
       "      <td>3</td>\n",
       "      <td>12</td>\n",
       "      <td>4</td>\n",
       "      <td>4</td>\n",
       "      <td>1</td>\n",
       "      <td>1</td>\n",
       "    </tr>\n",
       "    <tr>\n",
       "      <th>2</th>\n",
       "      <td>17</td>\n",
       "      <td>11</td>\n",
       "      <td>5</td>\n",
       "      <td>4</td>\n",
       "      <td>2</td>\n",
       "      <td>2</td>\n",
       "      <td>15</td>\n",
       "      <td>2</td>\n",
       "    </tr>\n",
       "    <tr>\n",
       "      <th>3</th>\n",
       "      <td>10</td>\n",
       "      <td>24</td>\n",
       "      <td>4</td>\n",
       "      <td>16</td>\n",
       "      <td>16</td>\n",
       "      <td>11</td>\n",
       "      <td>50</td>\n",
       "      <td>3</td>\n",
       "    </tr>\n",
       "    <tr>\n",
       "      <th>4</th>\n",
       "      <td>2</td>\n",
       "      <td>29</td>\n",
       "      <td>7</td>\n",
       "      <td>37</td>\n",
       "      <td>22</td>\n",
       "      <td>22</td>\n",
       "      <td>18</td>\n",
       "      <td>4</td>\n",
       "    </tr>\n",
       "  </tbody>\n",
       "</table>\n",
       "</div>"
      ],
      "text/plain": [
       "   quality_of_education  alumni_employment  quality_of_faculty  publications  \\\n",
       "0                     7                  9                   1             1   \n",
       "1                     9                 17                   3            12   \n",
       "2                    17                 11                   5             4   \n",
       "3                    10                 24                   4            16   \n",
       "4                     2                 29                   7            37   \n",
       "\n",
       "   influence  citations  patents  institution  \n",
       "0          1          1        5            0  \n",
       "1          4          4        1            1  \n",
       "2          2          2       15            2  \n",
       "3         16         11       50            3  \n",
       "4         22         22       18            4  "
      ]
     },
     "execution_count": 247,
     "metadata": {},
     "output_type": "execute_result"
    }
   ],
   "source": [
    "df.drop(columns={'score'}, inplace=True)\n",
    "df.head()\n"
   ]
  },
  {
   "cell_type": "code",
   "execution_count": 248,
   "metadata": {},
   "outputs": [
    {
     "data": {
      "text/plain": [
       "(4816, 8)"
      ]
     },
     "execution_count": 248,
     "metadata": {},
     "output_type": "execute_result"
    }
   ],
   "source": [
    "df.shape"
   ]
  },
  {
   "cell_type": "markdown",
   "metadata": {},
   "source": [
    "#### Dropping Duplicates"
   ]
  },
  {
   "cell_type": "code",
   "execution_count": 249,
   "metadata": {},
   "outputs": [
    {
     "data": {
      "text/plain": [
       "(601, 8)"
      ]
     },
     "execution_count": 249,
     "metadata": {},
     "output_type": "execute_result"
    }
   ],
   "source": [
    "df.drop_duplicates(keep='first', inplace=True)\n",
    "df.shape"
   ]
  },
  {
   "cell_type": "code",
   "execution_count": 250,
   "metadata": {},
   "outputs": [
    {
     "data": {
      "text/plain": [
       "0      4\n",
       "68     4\n",
       "66     4\n",
       "65     4\n",
       "64     4\n",
       "      ..\n",
       "135    2\n",
       "134    2\n",
       "133    2\n",
       "201    2\n",
       "94     1\n",
       "Name: institution, Length: 202, dtype: int64"
      ]
     },
     "execution_count": 250,
     "metadata": {},
     "output_type": "execute_result"
    }
   ],
   "source": [
    "df['institution'].value_counts()"
   ]
  },
  {
   "cell_type": "markdown",
   "metadata": {},
   "source": [
    "#### Producing Random features for each institute"
   ]
  },
  {
   "cell_type": "code",
   "execution_count": 251,
   "metadata": {},
   "outputs": [
    {
     "name": "stdout",
     "output_type": "stream",
     "text": [
      "(601, 8)\n"
     ]
    }
   ],
   "source": [
    "df1 = deepcopy(df)\n",
    "\n",
    "df1['quality_of_education'] = np.random.randint(df1['quality_of_education'].min(), df1['quality_of_education'].max(), df1.shape[0])\n",
    "df1['alumni_employment'] = np.random.randint(df1['alumni_employment'].min(), df1['alumni_employment'].max(), df1.shape[0])\n",
    "df1['quality_of_faculty'] = np.random.randint(df1['quality_of_faculty'].min(), df1['quality_of_faculty'].max(), df1.shape[0])\n",
    "df1['publications'] = np.random.randint(df1['publications'].min(), df1['publications'].max(), df1.shape[0])\n",
    "df1['influence'] = np.random.randint(df1['influence'].min(), df1['influence'].max(), df1.shape[0])\n",
    "df1['citations'] = np.random.randint(df1['citations'].min(), df1['citations'].max(), df1.shape[0])\n",
    "df1['patents'] = np.random.randint(df1['patents'].min(), df1['patents'].max(), df1.shape[0])\n",
    "\n",
    "df1.head()\n",
    "print(df1.shape)"
   ]
  },
  {
   "cell_type": "code",
   "execution_count": 252,
   "metadata": {},
   "outputs": [
    {
     "name": "stdout",
     "output_type": "stream",
     "text": [
      "(601, 8)\n"
     ]
    },
    {
     "data": {
      "text/plain": [
       "0      4\n",
       "68     4\n",
       "66     4\n",
       "65     4\n",
       "64     4\n",
       "      ..\n",
       "135    2\n",
       "134    2\n",
       "133    2\n",
       "201    2\n",
       "94     1\n",
       "Name: institution, Length: 202, dtype: int64"
      ]
     },
     "execution_count": 252,
     "metadata": {},
     "output_type": "execute_result"
    }
   ],
   "source": [
    "print(df1.shape)\n",
    "df1['institution'].value_counts()\n"
   ]
  },
  {
   "cell_type": "code",
   "execution_count": 253,
   "metadata": {},
   "outputs": [
    {
     "name": "stdout",
     "output_type": "stream",
     "text": [
      "(601, 8)\n"
     ]
    }
   ],
   "source": [
    "df2 = deepcopy(df)\n",
    "\n",
    "df2['quality_of_education'] = np.random.randint(\n",
    "    df2['quality_of_education'].min(), df2['quality_of_education'].max(), df2.shape[0])\n",
    "df2['alumni_employment'] = np.random.randint(\n",
    "    df2['alumni_employment'].min(), df2['alumni_employment'].max(), df2.shape[0])\n",
    "df2['quality_of_faculty'] = np.random.randint(\n",
    "    df2['quality_of_faculty'].min(), df2['quality_of_faculty'].max(), df2.shape[0])\n",
    "df2['publications'] = np.random.randint(\n",
    "    df2['publications'].min(), df2['publications'].max(), df2.shape[0])\n",
    "df2['influence'] = np.random.randint(\n",
    "    df2['influence'].min(), df2['influence'].max(), df2.shape[0])\n",
    "df2['citations'] = np.random.randint(\n",
    "    df2['citations'].min(), df2['citations'].max(), df2.shape[0])\n",
    "df2['patents'] = np.random.randint(\n",
    "    df2['patents'].min(), df2['patents'].max(), df2.shape[0])\n",
    "\n",
    "df2.head()\n",
    "print(df2.shape)\n"
   ]
  },
  {
   "cell_type": "code",
   "execution_count": 254,
   "metadata": {},
   "outputs": [
    {
     "name": "stdout",
     "output_type": "stream",
     "text": [
      "(601, 8)\n"
     ]
    }
   ],
   "source": [
    "df3 = deepcopy(df)\n",
    "\n",
    "df3['quality_of_education'] = np.random.randint(\n",
    "    df3['quality_of_education'].min(), df3['quality_of_education'].max(), df3.shape[0])\n",
    "df3['alumni_employment'] = np.random.randint(\n",
    "    df3['alumni_employment'].min(), df3['alumni_employment'].max(), df3.shape[0])\n",
    "df3['quality_of_faculty'] = np.random.randint(\n",
    "    df3['quality_of_faculty'].min(), df3['quality_of_faculty'].max(), df3.shape[0])\n",
    "df3['publications'] = np.random.randint(\n",
    "    df3['publications'].min(), df3['publications'].max(), df3.shape[0])\n",
    "df3['influence'] = np.random.randint(\n",
    "    df3['influence'].min(), df3['influence'].max(), df3.shape[0])\n",
    "df3['citations'] = np.random.randint(\n",
    "    df3['citations'].min(), df3['citations'].max(), df3.shape[0])\n",
    "df3['patents'] = np.random.randint(\n",
    "    df3['patents'].min(), df3['patents'].max(), df3.shape[0])\n",
    "\n",
    "df3.head()\n",
    "print(df3.shape)"
   ]
  },
  {
   "cell_type": "code",
   "execution_count": 255,
   "metadata": {},
   "outputs": [
    {
     "name": "stdout",
     "output_type": "stream",
     "text": [
      "(601, 8)\n"
     ]
    }
   ],
   "source": [
    "df4 = deepcopy(df)\n",
    "\n",
    "df4['quality_of_education'] = np.random.randint(\n",
    "    df4['quality_of_education'].min(), df4['quality_of_education'].max(), df4.shape[0])\n",
    "df4['alumni_employment'] = np.random.randint(\n",
    "    df4['alumni_employment'].min(), df4['alumni_employment'].max(), df4.shape[0])\n",
    "df4['quality_of_faculty'] = np.random.randint(\n",
    "    df4['quality_of_faculty'].min(), df4['quality_of_faculty'].max(), df4.shape[0])\n",
    "df4['publications'] = np.random.randint(\n",
    "    df4['publications'].min(), df4['publications'].max(), df4.shape[0])\n",
    "df4['influence'] = np.random.randint(\n",
    "    df4['influence'].min(), df4['influence'].max(), df4.shape[0])\n",
    "df4['citations'] = np.random.randint(\n",
    "    df4['citations'].min(), df4['citations'].max(), df4.shape[0])\n",
    "df4['patents'] = np.random.randint(\n",
    "    df4['patents'].min(), df4['patents'].max(), df4.shape[0])\n",
    "\n",
    "df4.head()\n",
    "print(df4.shape)\n"
   ]
  },
  {
   "cell_type": "code",
   "execution_count": 256,
   "metadata": {},
   "outputs": [
    {
     "name": "stdout",
     "output_type": "stream",
     "text": [
      "(601, 8)\n"
     ]
    }
   ],
   "source": [
    "df5 = deepcopy(df)\n",
    "\n",
    "df5['quality_of_education'] = np.random.randint(\n",
    "    df5['quality_of_education'].min(), df5['quality_of_education'].max(), df5.shape[0])\n",
    "df5['alumni_employment'] = np.random.randint(\n",
    "    df5['alumni_employment'].min(), df5['alumni_employment'].max(), df5.shape[0])\n",
    "df5['quality_of_faculty'] = np.random.randint(\n",
    "    df5['quality_of_faculty'].min(), df5['quality_of_faculty'].max(), df5.shape[0])\n",
    "df5['publications'] = np.random.randint(\n",
    "    df5['publications'].min(), df5['publications'].max(), df5.shape[0])\n",
    "df5['influence'] = np.random.randint(\n",
    "    df5['influence'].min(), df5['influence'].max(), df5.shape[0])\n",
    "df5['citations'] = np.random.randint(\n",
    "    df5['citations'].min(), df5['citations'].max(), df5.shape[0])\n",
    "df5['patents'] = np.random.randint(\n",
    "    df5['patents'].min(), df5['patents'].max(), df5.shape[0])\n",
    "\n",
    "df5.head()\n",
    "print(df5.shape)\n"
   ]
  },
  {
   "cell_type": "code",
   "execution_count": 257,
   "metadata": {},
   "outputs": [
    {
     "name": "stdout",
     "output_type": "stream",
     "text": [
      "(601, 8)\n"
     ]
    }
   ],
   "source": [
    "df6 = deepcopy(df)\n",
    "\n",
    "df6['quality_of_education'] = np.random.randint(\n",
    "    df6['quality_of_education'].min(), df6['quality_of_education'].max(), df6.shape[0])\n",
    "df6['alumni_employment'] = np.random.randint(\n",
    "    df6['alumni_employment'].min(), df6['alumni_employment'].max(), df6.shape[0])\n",
    "df6['quality_of_faculty'] = np.random.randint(\n",
    "    df6['quality_of_faculty'].min(), df6['quality_of_faculty'].max(), df6.shape[0])\n",
    "df6['publications'] = np.random.randint(\n",
    "    df6['publications'].min(), df6['publications'].max(), df6.shape[0])\n",
    "df6['influence'] = np.random.randint(\n",
    "    df6['influence'].min(), df6['influence'].max(), df6.shape[0])\n",
    "df6['citations'] = np.random.randint(\n",
    "    df6['citations'].min(), df6['citations'].max(), df6.shape[0])\n",
    "df6['patents'] = np.random.randint(\n",
    "    df6['patents'].min(), df6['patents'].max(), df6.shape[0])\n",
    "\n",
    "df6.head()\n",
    "print(df6.shape)\n"
   ]
  },
  {
   "cell_type": "code",
   "execution_count": 258,
   "metadata": {},
   "outputs": [
    {
     "name": "stdout",
     "output_type": "stream",
     "text": [
      "(601, 8)\n"
     ]
    }
   ],
   "source": [
    "df7 = deepcopy(df)\n",
    "\n",
    "df7['quality_of_education'] = np.random.randint(\n",
    "    df7['quality_of_education'].min(), df7['quality_of_education'].max(), df7.shape[0])\n",
    "df7['alumni_employment'] = np.random.randint(\n",
    "    df7['alumni_employment'].min(), df7['alumni_employment'].max(), df7.shape[0])\n",
    "df7['quality_of_faculty'] = np.random.randint(\n",
    "    df7['quality_of_faculty'].min(), df7['quality_of_faculty'].max(), df7.shape[0])\n",
    "df7['publications'] = np.random.randint(\n",
    "    df7['publications'].min(), df7['publications'].max(), df7.shape[0])\n",
    "df7['influence'] = np.random.randint(\n",
    "    df7['influence'].min(), df7['influence'].max(), df7.shape[0])\n",
    "df7['citations'] = np.random.randint(\n",
    "    df7['citations'].min(), df7['citations'].max(), df7.shape[0])\n",
    "df7['patents'] = np.random.randint(\n",
    "    df7['patents'].min(), df7['patents'].max(), df7.shape[0])\n",
    "\n",
    "df7.head()\n",
    "print(df7.shape)\n"
   ]
  },
  {
   "cell_type": "code",
   "execution_count": 259,
   "metadata": {},
   "outputs": [
    {
     "name": "stdout",
     "output_type": "stream",
     "text": [
      "(601, 8)\n"
     ]
    }
   ],
   "source": [
    "df8 = deepcopy(df)\n",
    "\n",
    "df8['quality_of_education'] = np.random.randint(\n",
    "    df8['quality_of_education'].min(), df8['quality_of_education'].max(), df8.shape[0])\n",
    "df8['alumni_employment'] = np.random.randint(\n",
    "    df8['alumni_employment'].min(), df8['alumni_employment'].max(), df8.shape[0])\n",
    "df8['quality_of_faculty'] = np.random.randint(\n",
    "    df8['quality_of_faculty'].min(), df8['quality_of_faculty'].max(), df8.shape[0])\n",
    "df8['publications'] = np.random.randint(\n",
    "    df8['publications'].min(), df8['publications'].max(), df8.shape[0])\n",
    "df8['influence'] = np.random.randint(\n",
    "    df8['influence'].min(), df8['influence'].max(), df8.shape[0])\n",
    "df8['citations'] = np.random.randint(\n",
    "    df8['citations'].min(), df8['citations'].max(), df8.shape[0])\n",
    "df8['patents'] = np.random.randint(\n",
    "    df8['patents'].min(), df8['patents'].max(), df8.shape[0])\n",
    "\n",
    "df8.head()\n",
    "print(df8.shape)\n"
   ]
  },
  {
   "cell_type": "code",
   "execution_count": 260,
   "metadata": {},
   "outputs": [
    {
     "name": "stdout",
     "output_type": "stream",
     "text": [
      "(601, 8)\n",
      "<bound method IndexOpsMixin.value_counts of 0        0\n",
      "1        1\n",
      "2        2\n",
      "3        3\n",
      "4        4\n",
      "      ... \n",
      "597    191\n",
      "598    168\n",
      "599    190\n",
      "600    155\n",
      "601    152\n",
      "Name: institution, Length: 601, dtype: int64>\n"
     ]
    }
   ],
   "source": [
    "df9 = deepcopy(df)\n",
    "\n",
    "df9['quality_of_education'] = np.random.randint(\n",
    "    df9['quality_of_education'].min(), df9['quality_of_education'].max(), df9.shape[0])\n",
    "df9['alumni_employment'] = np.random.randint(\n",
    "    df9['alumni_employment'].min(), df9['alumni_employment'].max(), df9.shape[0])\n",
    "df9['quality_of_faculty'] = np.random.randint(\n",
    "    df9['quality_of_faculty'].min(), df9['quality_of_faculty'].max(), df9.shape[0])\n",
    "df9['publications'] = np.random.randint(\n",
    "    df9['publications'].min(), df9['publications'].max(), df9.shape[0])\n",
    "df9['influence'] = np.random.randint(\n",
    "    df9['influence'].min(), df9['influence'].max(), df9.shape[0])\n",
    "df9['citations'] = np.random.randint(\n",
    "    df9['citations'].min(), df9['citations'].max(), df9.shape[0])\n",
    "df9['patents'] = np.random.randint(\n",
    "    df9['patents'].min(), df9['patents'].max(), df9.shape[0])\n",
    "\n",
    "df9.head()\n",
    "print(df9.shape)\n",
    "print(df9['institution'].value_counts)\n"
   ]
  },
  {
   "cell_type": "code",
   "execution_count": 261,
   "metadata": {},
   "outputs": [
    {
     "name": "stdout",
     "output_type": "stream",
     "text": [
      "(601, 8)\n",
      "<bound method IndexOpsMixin.value_counts of 0        0\n",
      "1        1\n",
      "2        2\n",
      "3        3\n",
      "4        4\n",
      "      ... \n",
      "597    191\n",
      "598    168\n",
      "599    190\n",
      "600    155\n",
      "601    152\n",
      "Name: institution, Length: 601, dtype: int64>\n"
     ]
    }
   ],
   "source": [
    "df10 = deepcopy(df)\n",
    "\n",
    "df10['quality_of_education'] = np.random.randint(\n",
    "    df10['quality_of_education'].min(), df10['quality_of_education'].max(), df10.shape[0])\n",
    "df10['alumni_employment'] = np.random.randint(\n",
    "    df10['alumni_employment'].min(), df10['alumni_employment'].max(), df10.shape[0])\n",
    "df10['quality_of_faculty'] = np.random.randint(\n",
    "    df10['quality_of_faculty'].min(), df10['quality_of_faculty'].max(), df10.shape[0])\n",
    "df10['publications'] = np.random.randint(\n",
    "    df10['publications'].min(), df10['publications'].max(), df10.shape[0])\n",
    "df10['influence'] = np.random.randint(\n",
    "    df10['influence'].min(), df10['influence'].max(), df10.shape[0])\n",
    "df10['citations'] = np.random.randint(\n",
    "    df10['citations'].min(), df10['citations'].max(), df10.shape[0])\n",
    "df10['patents'] = np.random.randint(\n",
    "    df10['patents'].min(), df10['patents'].max(), df10.shape[0])\n",
    "\n",
    "df10.head()\n",
    "print(df10.shape)\n",
    "print(df10['institution'].value_counts)"
   ]
  },
  {
   "cell_type": "code",
   "execution_count": 279,
   "metadata": {},
   "outputs": [
    {
     "data": {
      "text/html": [
       "<div>\n",
       "<style scoped>\n",
       "    .dataframe tbody tr th:only-of-type {\n",
       "        vertical-align: middle;\n",
       "    }\n",
       "\n",
       "    .dataframe tbody tr th {\n",
       "        vertical-align: top;\n",
       "    }\n",
       "\n",
       "    .dataframe thead th {\n",
       "        text-align: right;\n",
       "    }\n",
       "</style>\n",
       "<table border=\"1\" class=\"dataframe\">\n",
       "  <thead>\n",
       "    <tr style=\"text-align: right;\">\n",
       "      <th></th>\n",
       "      <th>quality_of_education</th>\n",
       "      <th>alumni_employment</th>\n",
       "      <th>quality_of_faculty</th>\n",
       "      <th>publications</th>\n",
       "      <th>influence</th>\n",
       "      <th>citations</th>\n",
       "      <th>patents</th>\n",
       "      <th>institution</th>\n",
       "    </tr>\n",
       "  </thead>\n",
       "  <tbody>\n",
       "    <tr>\n",
       "      <th>0</th>\n",
       "      <td>7</td>\n",
       "      <td>9</td>\n",
       "      <td>1</td>\n",
       "      <td>1</td>\n",
       "      <td>1</td>\n",
       "      <td>1</td>\n",
       "      <td>5</td>\n",
       "      <td>0</td>\n",
       "    </tr>\n",
       "    <tr>\n",
       "      <th>1</th>\n",
       "      <td>9</td>\n",
       "      <td>17</td>\n",
       "      <td>3</td>\n",
       "      <td>12</td>\n",
       "      <td>4</td>\n",
       "      <td>4</td>\n",
       "      <td>1</td>\n",
       "      <td>1</td>\n",
       "    </tr>\n",
       "    <tr>\n",
       "      <th>2</th>\n",
       "      <td>17</td>\n",
       "      <td>11</td>\n",
       "      <td>5</td>\n",
       "      <td>4</td>\n",
       "      <td>2</td>\n",
       "      <td>2</td>\n",
       "      <td>15</td>\n",
       "      <td>2</td>\n",
       "    </tr>\n",
       "    <tr>\n",
       "      <th>3</th>\n",
       "      <td>10</td>\n",
       "      <td>24</td>\n",
       "      <td>4</td>\n",
       "      <td>16</td>\n",
       "      <td>16</td>\n",
       "      <td>11</td>\n",
       "      <td>50</td>\n",
       "      <td>3</td>\n",
       "    </tr>\n",
       "    <tr>\n",
       "      <th>4</th>\n",
       "      <td>2</td>\n",
       "      <td>29</td>\n",
       "      <td>7</td>\n",
       "      <td>37</td>\n",
       "      <td>22</td>\n",
       "      <td>22</td>\n",
       "      <td>18</td>\n",
       "      <td>4</td>\n",
       "    </tr>\n",
       "  </tbody>\n",
       "</table>\n",
       "</div>"
      ],
      "text/plain": [
       "   quality_of_education  alumni_employment  quality_of_faculty  publications  \\\n",
       "0                     7                  9                   1             1   \n",
       "1                     9                 17                   3            12   \n",
       "2                    17                 11                   5             4   \n",
       "3                    10                 24                   4            16   \n",
       "4                     2                 29                   7            37   \n",
       "\n",
       "   influence  citations  patents  institution  \n",
       "0          1          1        5            0  \n",
       "1          4          4        1            1  \n",
       "2          2          2       15            2  \n",
       "3         16         11       50            3  \n",
       "4         22         22       18            4  "
      ]
     },
     "execution_count": 279,
     "metadata": {},
     "output_type": "execute_result"
    }
   ],
   "source": [
    "new_data = pd.concat([df, df1, df2, df3, df4, df5, df6, df7,\n",
    "                     df8, df9, df10], axis=0)\n",
    "new_data.shape\n",
    "new_data.head()"
   ]
  },
  {
   "cell_type": "code",
   "execution_count": 271,
   "metadata": {},
   "outputs": [
    {
     "name": "stdout",
     "output_type": "stream",
     "text": [
      "<bound method IndexOpsMixin.value_counts of 0        0\n",
      "1        1\n",
      "2        2\n",
      "3        3\n",
      "4        4\n",
      "      ... \n",
      "597    191\n",
      "598    168\n",
      "599    190\n",
      "600    155\n",
      "601    152\n",
      "Name: institution, Length: 6611, dtype: int64>\n"
     ]
    }
   ],
   "source": [
    "print(new_data['institution'].value_counts)\n"
   ]
  },
  {
   "cell_type": "markdown",
   "metadata": {},
   "source": [
    "# Applying KNN"
   ]
  },
  {
   "cell_type": "code",
   "execution_count": 273,
   "metadata": {},
   "outputs": [],
   "source": [
    "\n",
    "X = new_data.iloc[:, 0:7]\n",
    "y = new_data.iloc[:, 7]\n",
    "\n",
    "MinMaxScaler = preprocessing.MinMaxScaler()\n",
    "X_data_minmax = MinMaxScaler.fit_transform(X)\n",
    "# data = pd.DataFrame(X_data_minmax, columns=['quality_of_education', 'alumni_employment', 'quality_of_faculty', 'publications', 'influence', 'citations',  'patents', 'score'])\n",
    "\n",
    "X_train, X_test, y_train, y_test = train_test_split(\n",
    "    X, y, random_state=0, test_size=0.3)\n"
   ]
  },
  {
   "cell_type": "code",
   "execution_count": 274,
   "metadata": {},
   "outputs": [
    {
     "data": {
      "text/html": [
       "<div>\n",
       "<style scoped>\n",
       "    .dataframe tbody tr th:only-of-type {\n",
       "        vertical-align: middle;\n",
       "    }\n",
       "\n",
       "    .dataframe tbody tr th {\n",
       "        vertical-align: top;\n",
       "    }\n",
       "\n",
       "    .dataframe thead th {\n",
       "        text-align: right;\n",
       "    }\n",
       "</style>\n",
       "<table border=\"1\" class=\"dataframe\">\n",
       "  <thead>\n",
       "    <tr style=\"text-align: right;\">\n",
       "      <th></th>\n",
       "      <th>quality_of_education</th>\n",
       "      <th>alumni_employment</th>\n",
       "      <th>quality_of_faculty</th>\n",
       "      <th>publications</th>\n",
       "      <th>influence</th>\n",
       "      <th>citations</th>\n",
       "      <th>patents</th>\n",
       "    </tr>\n",
       "  </thead>\n",
       "  <tbody>\n",
       "    <tr>\n",
       "      <th>0</th>\n",
       "      <td>7</td>\n",
       "      <td>9</td>\n",
       "      <td>1</td>\n",
       "      <td>1</td>\n",
       "      <td>1</td>\n",
       "      <td>1</td>\n",
       "      <td>5</td>\n",
       "    </tr>\n",
       "    <tr>\n",
       "      <th>1</th>\n",
       "      <td>9</td>\n",
       "      <td>17</td>\n",
       "      <td>3</td>\n",
       "      <td>12</td>\n",
       "      <td>4</td>\n",
       "      <td>4</td>\n",
       "      <td>1</td>\n",
       "    </tr>\n",
       "    <tr>\n",
       "      <th>2</th>\n",
       "      <td>17</td>\n",
       "      <td>11</td>\n",
       "      <td>5</td>\n",
       "      <td>4</td>\n",
       "      <td>2</td>\n",
       "      <td>2</td>\n",
       "      <td>15</td>\n",
       "    </tr>\n",
       "    <tr>\n",
       "      <th>3</th>\n",
       "      <td>10</td>\n",
       "      <td>24</td>\n",
       "      <td>4</td>\n",
       "      <td>16</td>\n",
       "      <td>16</td>\n",
       "      <td>11</td>\n",
       "      <td>50</td>\n",
       "    </tr>\n",
       "    <tr>\n",
       "      <th>4</th>\n",
       "      <td>2</td>\n",
       "      <td>29</td>\n",
       "      <td>7</td>\n",
       "      <td>37</td>\n",
       "      <td>22</td>\n",
       "      <td>22</td>\n",
       "      <td>18</td>\n",
       "    </tr>\n",
       "    <tr>\n",
       "      <th>...</th>\n",
       "      <td>...</td>\n",
       "      <td>...</td>\n",
       "      <td>...</td>\n",
       "      <td>...</td>\n",
       "      <td>...</td>\n",
       "      <td>...</td>\n",
       "      <td>...</td>\n",
       "    </tr>\n",
       "    <tr>\n",
       "      <th>597</th>\n",
       "      <td>10</td>\n",
       "      <td>96</td>\n",
       "      <td>76</td>\n",
       "      <td>347</td>\n",
       "      <td>523</td>\n",
       "      <td>124</td>\n",
       "      <td>704</td>\n",
       "    </tr>\n",
       "    <tr>\n",
       "      <th>598</th>\n",
       "      <td>41</td>\n",
       "      <td>94</td>\n",
       "      <td>109</td>\n",
       "      <td>717</td>\n",
       "      <td>194</td>\n",
       "      <td>390</td>\n",
       "      <td>805</td>\n",
       "    </tr>\n",
       "    <tr>\n",
       "      <th>599</th>\n",
       "      <td>46</td>\n",
       "      <td>438</td>\n",
       "      <td>51</td>\n",
       "      <td>62</td>\n",
       "      <td>181</td>\n",
       "      <td>642</td>\n",
       "      <td>55</td>\n",
       "    </tr>\n",
       "    <tr>\n",
       "      <th>600</th>\n",
       "      <td>12</td>\n",
       "      <td>423</td>\n",
       "      <td>97</td>\n",
       "      <td>930</td>\n",
       "      <td>146</td>\n",
       "      <td>289</td>\n",
       "      <td>307</td>\n",
       "    </tr>\n",
       "    <tr>\n",
       "      <th>601</th>\n",
       "      <td>121</td>\n",
       "      <td>455</td>\n",
       "      <td>56</td>\n",
       "      <td>860</td>\n",
       "      <td>832</td>\n",
       "      <td>569</td>\n",
       "      <td>42</td>\n",
       "    </tr>\n",
       "  </tbody>\n",
       "</table>\n",
       "<p>6611 rows × 7 columns</p>\n",
       "</div>"
      ],
      "text/plain": [
       "     quality_of_education  alumni_employment  quality_of_faculty  \\\n",
       "0                       7                  9                   1   \n",
       "1                       9                 17                   3   \n",
       "2                      17                 11                   5   \n",
       "3                      10                 24                   4   \n",
       "4                       2                 29                   7   \n",
       "..                    ...                ...                 ...   \n",
       "597                    10                 96                  76   \n",
       "598                    41                 94                 109   \n",
       "599                    46                438                  51   \n",
       "600                    12                423                  97   \n",
       "601                   121                455                  56   \n",
       "\n",
       "     publications  influence  citations  patents  \n",
       "0               1          1          1        5  \n",
       "1              12          4          4        1  \n",
       "2               4          2          2       15  \n",
       "3              16         16         11       50  \n",
       "4              37         22         22       18  \n",
       "..            ...        ...        ...      ...  \n",
       "597           347        523        124      704  \n",
       "598           717        194        390      805  \n",
       "599            62        181        642       55  \n",
       "600           930        146        289      307  \n",
       "601           860        832        569       42  \n",
       "\n",
       "[6611 rows x 7 columns]"
      ]
     },
     "execution_count": 274,
     "metadata": {},
     "output_type": "execute_result"
    }
   ],
   "source": [
    "X"
   ]
  },
  {
   "cell_type": "code",
   "execution_count": 275,
   "metadata": {},
   "outputs": [
    {
     "data": {
      "text/plain": [
       "0        0\n",
       "1        1\n",
       "2        2\n",
       "3        3\n",
       "4        4\n",
       "      ... \n",
       "597    191\n",
       "598    168\n",
       "599    190\n",
       "600    155\n",
       "601    152\n",
       "Name: institution, Length: 6611, dtype: int64"
      ]
     },
     "execution_count": 275,
     "metadata": {},
     "output_type": "execute_result"
    }
   ],
   "source": [
    "y"
   ]
  },
  {
   "cell_type": "code",
   "execution_count": 276,
   "metadata": {},
   "outputs": [],
   "source": [
    "knn_clf=KNeighborsClassifier()\n",
    "knn_clf.fit(X_train,y_train)\n",
    "ypred=knn_clf.predict(X_test) #These are the predicted output values"
   ]
  },
  {
   "cell_type": "code",
   "execution_count": 277,
   "metadata": {},
   "outputs": [
    {
     "name": "stdout",
     "output_type": "stream",
     "text": [
      "4627\n",
      "4627\n",
      "1984\n",
      "1984\n"
     ]
    }
   ],
   "source": [
    "print(len(X_train))\n",
    "print(len(y_train))\n",
    "print(len(X_test))\n",
    "print(len(y_test))\n"
   ]
  },
  {
   "cell_type": "code",
   "execution_count": 278,
   "metadata": {},
   "outputs": [
    {
     "name": "stdout",
     "output_type": "stream",
     "text": [
      "Confusion Matrix: \n",
      "[[5 0 0 ... 0 0 0]\n",
      " [0 3 0 ... 0 0 0]\n",
      " [0 0 3 ... 1 0 0]\n",
      " ...\n",
      " [0 0 0 ... 1 0 0]\n",
      " [0 0 0 ... 0 1 0]\n",
      " [1 0 0 ... 0 0 2]]\n",
      "Classification Report: \n",
      "              precision    recall  f1-score   support\n",
      "\n",
      "           0       0.10      0.42      0.17        12\n",
      "           1       0.10      0.30      0.15        10\n",
      "           2       0.07      0.21      0.11        14\n",
      "           3       0.03      0.10      0.04        10\n",
      "           4       0.04      0.08      0.05        12\n",
      "           5       0.03      0.14      0.04         7\n",
      "           6       0.05      0.18      0.08        11\n",
      "           7       0.04      0.11      0.06         9\n",
      "           8       0.08      0.18      0.11        17\n",
      "           9       0.05      0.25      0.08         8\n",
      "          10       0.06      0.17      0.09        12\n",
      "          11       0.10      0.29      0.14        14\n",
      "          12       0.07      0.23      0.10        13\n",
      "          13       0.06      0.14      0.08        14\n",
      "          14       0.32      0.41      0.36        17\n",
      "          15       0.21      0.43      0.28        14\n",
      "          16       0.12      0.21      0.15        14\n",
      "          17       0.00      0.00      0.00         5\n",
      "          18       0.12      0.33      0.18         9\n",
      "          19       0.04      0.05      0.05        19\n",
      "          20       0.07      0.18      0.10        11\n",
      "          21       0.12      0.36      0.19        11\n",
      "          22       0.04      0.08      0.05        12\n",
      "          23       0.12      0.23      0.16        13\n",
      "          24       0.11      0.14      0.12        14\n",
      "          25       0.14      0.20      0.17        15\n",
      "          26       0.13      0.29      0.18        14\n",
      "          27       0.06      0.10      0.07        10\n",
      "          28       0.15      0.25      0.19        12\n",
      "          29       0.12      0.12      0.12        17\n",
      "          30       0.00      0.00      0.00        13\n",
      "          31       0.15      0.19      0.17        16\n",
      "          32       0.12      0.11      0.11        19\n",
      "          33       0.15      0.30      0.20        10\n",
      "          34       0.23      0.18      0.20        17\n",
      "          35       0.06      0.11      0.08         9\n",
      "          36       0.06      0.06      0.06        16\n",
      "          37       0.05      0.12      0.07         8\n",
      "          38       0.12      0.06      0.08        18\n",
      "          39       0.29      0.29      0.29        14\n",
      "          40       0.25      0.20      0.22        15\n",
      "          41       0.18      0.17      0.17        18\n",
      "          42       0.12      0.23      0.16        13\n",
      "          43       0.12      0.07      0.09        15\n",
      "          44       0.20      0.12      0.15        16\n",
      "          45       0.23      0.20      0.21        15\n",
      "          46       0.09      0.07      0.08        14\n",
      "          47       0.09      0.22      0.13         9\n",
      "          48       0.21      0.23      0.22        13\n",
      "          49       0.16      0.17      0.16        18\n",
      "          50       0.06      0.09      0.07        11\n",
      "          51       0.07      0.18      0.11        11\n",
      "          52       0.33      0.29      0.31        17\n",
      "          53       0.12      0.20      0.15        10\n",
      "          54       0.08      0.08      0.08        12\n",
      "          55       0.06      0.11      0.08         9\n",
      "          56       0.12      0.08      0.10        13\n",
      "          57       0.23      0.25      0.24        12\n",
      "          58       0.08      0.07      0.07        14\n",
      "          59       0.00      0.00      0.00        18\n",
      "          60       0.11      0.07      0.09        14\n",
      "          61       0.11      0.08      0.10        12\n",
      "          62       0.23      0.30      0.26        10\n",
      "          63       0.14      0.14      0.14         7\n",
      "          64       0.00      0.00      0.00        20\n",
      "          65       0.00      0.00      0.00        16\n",
      "          66       0.20      0.17      0.18        12\n",
      "          67       0.12      0.07      0.09        14\n",
      "          68       0.00      0.00      0.00        16\n",
      "          69       0.08      0.06      0.06        18\n",
      "          70       0.09      0.08      0.09        12\n",
      "          71       0.00      0.00      0.00        12\n",
      "          72       0.22      0.15      0.18        13\n",
      "          73       0.00      0.00      0.00        10\n",
      "          74       0.67      0.12      0.21        16\n",
      "          75       0.10      0.09      0.10        11\n",
      "          76       0.09      0.08      0.09        12\n",
      "          77       0.00      0.00      0.00         8\n",
      "          78       0.60      0.27      0.37        11\n",
      "          79       0.40      0.18      0.25        11\n",
      "          80       0.10      0.08      0.09        12\n",
      "          81       0.00      0.00      0.00        11\n",
      "          82       0.08      0.10      0.09        10\n",
      "          83       0.43      0.20      0.27        15\n",
      "          84       0.40      0.22      0.29         9\n",
      "          85       0.08      0.17      0.11         6\n",
      "          86       0.00      0.00      0.00        12\n",
      "          87       0.00      0.00      0.00        14\n",
      "          88       0.25      0.05      0.08        20\n",
      "          89       0.50      0.08      0.13        13\n",
      "          90       0.29      0.13      0.18        15\n",
      "          91       0.33      0.29      0.31         7\n",
      "          92       0.40      0.12      0.18        17\n",
      "          93       0.14      0.10      0.12        10\n",
      "          94       0.00      0.00      0.00         3\n",
      "          95       0.10      0.08      0.09        13\n",
      "          96       0.00      0.00      0.00         9\n",
      "          97       0.33      0.18      0.24        11\n",
      "          98       0.00      0.00      0.00        14\n",
      "          99       0.00      0.00      0.00        11\n",
      "         100       0.20      0.12      0.15         8\n",
      "         101       0.00      0.00      0.00        12\n",
      "         102       0.00      0.00      0.00        13\n",
      "         103       0.00      0.00      0.00        14\n",
      "         104       0.00      0.00      0.00        12\n",
      "         105       0.25      0.12      0.17         8\n",
      "         106       0.12      0.12      0.12         8\n",
      "         107       0.18      0.18      0.18        11\n",
      "         108       0.20      0.11      0.14         9\n",
      "         109       0.50      0.25      0.33         4\n",
      "         110       0.00      0.00      0.00         7\n",
      "         111       0.00      0.00      0.00         7\n",
      "         112       0.12      0.17      0.14         6\n",
      "         113       0.25      0.17      0.20         6\n",
      "         114       0.50      0.25      0.33         8\n",
      "         115       0.00      0.00      0.00         7\n",
      "         116       0.50      0.14      0.22         7\n",
      "         117       0.00      0.00      0.00         5\n",
      "         118       0.50      0.09      0.15        11\n",
      "         119       0.11      0.17      0.13         6\n",
      "         120       0.00      0.00      0.00         5\n",
      "         121       0.00      0.00      0.00         3\n",
      "         122       0.00      0.00      0.00         6\n",
      "         123       0.50      0.25      0.33         8\n",
      "         124       0.14      0.17      0.15         6\n",
      "         125       0.20      0.12      0.15         8\n",
      "         126       0.67      0.22      0.33         9\n",
      "         127       0.00      0.00      0.00         3\n",
      "         128       0.33      0.17      0.22         6\n",
      "         129       0.00      0.00      0.00         6\n",
      "         130       0.00      0.00      0.00         5\n",
      "         131       0.00      0.00      0.00         7\n",
      "         132       0.00      0.00      0.00         9\n",
      "         133       0.00      0.00      0.00         8\n",
      "         134       0.00      0.00      0.00         6\n",
      "         135       0.00      0.00      0.00         6\n",
      "         136       0.00      0.00      0.00         9\n",
      "         137       1.00      0.17      0.29         6\n",
      "         138       0.17      0.25      0.20         4\n",
      "         139       1.00      0.09      0.17        11\n",
      "         140       0.00      0.00      0.00         3\n",
      "         141       0.00      0.00      0.00         9\n",
      "         142       0.00      0.00      0.00         8\n",
      "         143       0.00      0.00      0.00         7\n",
      "         144       0.00      0.00      0.00         5\n",
      "         145       0.00      0.00      0.00         2\n",
      "         146       1.00      0.17      0.29         6\n",
      "         147       0.67      0.29      0.40         7\n",
      "         148       0.33      0.20      0.25         5\n",
      "         149       0.00      0.00      0.00         9\n",
      "         150       1.00      0.20      0.33        10\n",
      "         151       0.00      0.00      0.00         7\n",
      "         152       0.50      0.11      0.18         9\n",
      "         153       0.33      0.20      0.25         5\n",
      "         154       0.00      0.00      0.00         9\n",
      "         155       0.00      0.00      0.00         9\n",
      "         156       0.00      0.00      0.00         6\n",
      "         157       0.00      0.00      0.00         8\n",
      "         158       0.00      0.00      0.00         5\n",
      "         159       0.50      0.14      0.22         7\n",
      "         160       0.00      0.00      0.00         7\n",
      "         161       0.40      0.33      0.36         6\n",
      "         162       0.17      0.20      0.18         5\n",
      "         163       0.00      0.00      0.00         9\n",
      "         164       0.20      0.12      0.15         8\n",
      "         165       0.00      0.00      0.00         5\n",
      "         166       0.00      0.00      0.00         8\n",
      "         167       0.17      0.17      0.17         6\n",
      "         168       0.20      0.17      0.18         6\n",
      "         169       0.33      0.12      0.18         8\n",
      "         170       0.50      0.11      0.18         9\n",
      "         171       1.00      0.22      0.36         9\n",
      "         172       1.00      0.17      0.29         6\n",
      "         173       0.00      0.00      0.00         8\n",
      "         174       0.00      0.00      0.00         2\n",
      "         175       0.00      0.00      0.00         9\n",
      "         176       0.00      0.00      0.00         8\n",
      "         177       0.00      0.00      0.00        11\n",
      "         178       0.20      0.17      0.18         6\n",
      "         179       0.00      0.00      0.00         6\n",
      "         180       0.00      0.00      0.00         6\n",
      "         181       0.40      0.29      0.33         7\n",
      "         182       0.00      0.00      0.00         8\n",
      "         183       0.00      0.00      0.00         4\n",
      "         184       0.00      0.00      0.00         5\n",
      "         185       0.00      0.00      0.00         3\n",
      "         186       0.00      0.00      0.00         6\n",
      "         187       0.00      0.00      0.00         8\n",
      "         188       0.00      0.00      0.00         4\n",
      "         189       0.50      0.25      0.33         4\n",
      "         190       0.67      0.33      0.44         6\n",
      "         191       1.00      0.17      0.29         6\n",
      "         192       0.50      0.20      0.29         5\n",
      "         193       0.75      0.33      0.46         9\n",
      "         194       0.00      0.00      0.00         7\n",
      "         195       0.00      0.00      0.00         8\n",
      "         196       0.50      0.20      0.29         5\n",
      "         197       0.50      0.11      0.18         9\n",
      "         198       0.00      0.00      0.00         5\n",
      "         199       0.14      0.17      0.15         6\n",
      "         200       0.33      0.17      0.22         6\n",
      "         201       0.67      0.22      0.33         9\n",
      "\n",
      "    accuracy                           0.12      1984\n",
      "   macro avg       0.17      0.11      0.12      1984\n",
      "weighted avg       0.17      0.12      0.12      1984\n",
      "\n",
      "Accuracy:  0.12147177419354839\n"
     ]
    },
    {
     "name": "stderr",
     "output_type": "stream",
     "text": [
      "/home/nafay/.local/lib/python3.10/site-packages/sklearn/metrics/_classification.py:1334: UndefinedMetricWarning: Precision and F-score are ill-defined and being set to 0.0 in labels with no predicted samples. Use `zero_division` parameter to control this behavior.\n",
      "  _warn_prf(average, modifier, msg_start, len(result))\n",
      "/home/nafay/.local/lib/python3.10/site-packages/sklearn/metrics/_classification.py:1334: UndefinedMetricWarning: Precision and F-score are ill-defined and being set to 0.0 in labels with no predicted samples. Use `zero_division` parameter to control this behavior.\n",
      "  _warn_prf(average, modifier, msg_start, len(result))\n",
      "/home/nafay/.local/lib/python3.10/site-packages/sklearn/metrics/_classification.py:1334: UndefinedMetricWarning: Precision and F-score are ill-defined and being set to 0.0 in labels with no predicted samples. Use `zero_division` parameter to control this behavior.\n",
      "  _warn_prf(average, modifier, msg_start, len(result))\n"
     ]
    }
   ],
   "source": [
    "\n",
    "from sklearn.metrics import classification_report, confusion_matrix, accuracy_score\n",
    "result = confusion_matrix(y_test, ypred)\n",
    "print(\"Confusion Matrix: \")\n",
    "print(result)\n",
    "result1 = classification_report(y_test, ypred)\n",
    "print(\"Classification Report: \" ,)\n",
    "print (result1)\n",
    "result2 = accuracy_score(y_test,ypred)\n",
    "print(\"Accuracy: \",result2)"
   ]
  },
  {
   "cell_type": "code",
   "execution_count": null,
   "metadata": {},
   "outputs": [],
   "source": []
  }
 ],
 "metadata": {
  "kernelspec": {
   "display_name": "Python 3.10.6 64-bit",
   "language": "python",
   "name": "python3"
  },
  "language_info": {
   "codemirror_mode": {
    "name": "ipython",
    "version": 3
   },
   "file_extension": ".py",
   "mimetype": "text/x-python",
   "name": "python",
   "nbconvert_exporter": "python",
   "pygments_lexer": "ipython3",
   "version": "3.10.6"
  },
  "orig_nbformat": 4,
  "vscode": {
   "interpreter": {
    "hash": "916dbcbb3f70747c44a77c7bcd40155683ae19c65e1c03b4aa3499c5328201f1"
   }
  }
 },
 "nbformat": 4,
 "nbformat_minor": 2
}
