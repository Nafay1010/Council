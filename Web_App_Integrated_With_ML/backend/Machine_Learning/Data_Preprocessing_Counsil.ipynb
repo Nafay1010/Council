{
 "cells": [
  {
   "cell_type": "code",
   "execution_count": 1,
   "metadata": {},
   "outputs": [],
   "source": [
    "import pandas as pd\n",
    "import matplotlib as plt\n",
    "import seaborn as sns\n",
    "from copy import deepcopy\n",
    "from sklearn import preprocessing\n",
    "import numpy as np"
   ]
  },
  {
   "cell_type": "code",
   "execution_count": 2,
   "metadata": {},
   "outputs": [
    {
     "data": {
      "text/html": [
       "<div>\n",
       "<style scoped>\n",
       "    .dataframe tbody tr th:only-of-type {\n",
       "        vertical-align: middle;\n",
       "    }\n",
       "\n",
       "    .dataframe tbody tr th {\n",
       "        vertical-align: top;\n",
       "    }\n",
       "\n",
       "    .dataframe thead th {\n",
       "        text-align: right;\n",
       "    }\n",
       "</style>\n",
       "<table border=\"1\" class=\"dataframe\">\n",
       "  <thead>\n",
       "    <tr style=\"text-align: right;\">\n",
       "      <th></th>\n",
       "      <th>Gender</th>\n",
       "      <th>Race/Ethnicity</th>\n",
       "      <th>Home_City</th>\n",
       "      <th>Preferred_Langauge</th>\n",
       "      <th>Hobby_Interest</th>\n",
       "      <th>Budget</th>\n",
       "      <th>Fathers_Occupation</th>\n",
       "      <th>Mothers_Occupation</th>\n",
       "      <th>Study_Group</th>\n",
       "      <th>Degree_Program</th>\n",
       "      <th>Matric Grade</th>\n",
       "      <th>Inter Grade</th>\n",
       "      <th>Campus</th>\n",
       "      <th>University</th>\n",
       "    </tr>\n",
       "  </thead>\n",
       "  <tbody>\n",
       "    <tr>\n",
       "      <th>0</th>\n",
       "      <td>female</td>\n",
       "      <td>group B</td>\n",
       "      <td>Karachi</td>\n",
       "      <td>Punjabi</td>\n",
       "      <td>Reading</td>\n",
       "      <td>High</td>\n",
       "      <td>Doctor</td>\n",
       "      <td>House Wife</td>\n",
       "      <td>CS</td>\n",
       "      <td>BSCS</td>\n",
       "      <td>A+</td>\n",
       "      <td>A+</td>\n",
       "      <td>Karachi</td>\n",
       "      <td>FAST NUCES</td>\n",
       "    </tr>\n",
       "    <tr>\n",
       "      <th>1</th>\n",
       "      <td>female</td>\n",
       "      <td>group C</td>\n",
       "      <td>Karachi</td>\n",
       "      <td>Urdu</td>\n",
       "      <td>Reading</td>\n",
       "      <td>Medium</td>\n",
       "      <td>Engrr</td>\n",
       "      <td>House Wife</td>\n",
       "      <td>Pre-Engrr</td>\n",
       "      <td>BSEE</td>\n",
       "      <td>B</td>\n",
       "      <td>B</td>\n",
       "      <td>Islamabad</td>\n",
       "      <td>FAST NUCES</td>\n",
       "    </tr>\n",
       "    <tr>\n",
       "      <th>2</th>\n",
       "      <td>female</td>\n",
       "      <td>group B</td>\n",
       "      <td>Lahore</td>\n",
       "      <td>Urdu</td>\n",
       "      <td>Sports</td>\n",
       "      <td>Medium</td>\n",
       "      <td>Engrr</td>\n",
       "      <td>House Wife</td>\n",
       "      <td>Pre-Engrr</td>\n",
       "      <td>BSCS</td>\n",
       "      <td>B</td>\n",
       "      <td>A</td>\n",
       "      <td>Lahore</td>\n",
       "      <td>FAST NUCES</td>\n",
       "    </tr>\n",
       "    <tr>\n",
       "      <th>3</th>\n",
       "      <td>male</td>\n",
       "      <td>group A</td>\n",
       "      <td>Karachi</td>\n",
       "      <td>Urdu</td>\n",
       "      <td>Sports</td>\n",
       "      <td>High</td>\n",
       "      <td>Doctor</td>\n",
       "      <td>House Wife</td>\n",
       "      <td>Pre-Engrr</td>\n",
       "      <td>BSCS</td>\n",
       "      <td>A+</td>\n",
       "      <td>A+</td>\n",
       "      <td>Islamabad</td>\n",
       "      <td>FAST NUCES</td>\n",
       "    </tr>\n",
       "    <tr>\n",
       "      <th>4</th>\n",
       "      <td>male</td>\n",
       "      <td>group C</td>\n",
       "      <td>Peshawar</td>\n",
       "      <td>Urdu</td>\n",
       "      <td>Gaming</td>\n",
       "      <td>High</td>\n",
       "      <td>Doctor</td>\n",
       "      <td>House Wife</td>\n",
       "      <td>CS</td>\n",
       "      <td>BSEE</td>\n",
       "      <td>A+</td>\n",
       "      <td>A+</td>\n",
       "      <td>Peshawar</td>\n",
       "      <td>FAST NUCES</td>\n",
       "    </tr>\n",
       "  </tbody>\n",
       "</table>\n",
       "</div>"
      ],
      "text/plain": [
       "   Gender Race/Ethnicity Home_City Preferred_Langauge Hobby_Interest  Budget  \\\n",
       "0  female        group B   Karachi            Punjabi        Reading    High   \n",
       "1  female        group C   Karachi               Urdu        Reading  Medium   \n",
       "2  female        group B    Lahore               Urdu         Sports  Medium   \n",
       "3    male        group A   Karachi               Urdu         Sports    High   \n",
       "4    male        group C  Peshawar               Urdu         Gaming    High   \n",
       "\n",
       "  Fathers_Occupation Mothers_Occupation Study_Group Degree_Program  \\\n",
       "0             Doctor         House Wife          CS           BSCS   \n",
       "1              Engrr         House Wife   Pre-Engrr           BSEE   \n",
       "2              Engrr         House Wife   Pre-Engrr           BSCS   \n",
       "3             Doctor         House Wife   Pre-Engrr           BSCS   \n",
       "4             Doctor         House Wife          CS           BSEE   \n",
       "\n",
       "  Matric Grade Inter Grade     Campus  University  \n",
       "0           A+          A+    Karachi  FAST NUCES  \n",
       "1            B           B  Islamabad  FAST NUCES  \n",
       "2            B           A     Lahore  FAST NUCES  \n",
       "3           A+          A+  Islamabad  FAST NUCES  \n",
       "4           A+          A+   Peshawar  FAST NUCES  "
      ]
     },
     "execution_count": 2,
     "metadata": {},
     "output_type": "execute_result"
    }
   ],
   "source": [
    "data = pd.read_csv('./CLeanData.csv')\n",
    "data.head()"
   ]
  },
  {
   "cell_type": "code",
   "execution_count": 3,
   "metadata": {},
   "outputs": [
    {
     "name": "stdout",
     "output_type": "stream",
     "text": [
      "<class 'pandas.core.frame.DataFrame'>\n",
      "RangeIndex: 250 entries, 0 to 249\n",
      "Data columns (total 14 columns):\n",
      " #   Column              Non-Null Count  Dtype \n",
      "---  ------              --------------  ----- \n",
      " 0   Gender              250 non-null    object\n",
      " 1   Race/Ethnicity      250 non-null    object\n",
      " 2   Home_City           250 non-null    object\n",
      " 3   Preferred_Langauge  250 non-null    object\n",
      " 4   Hobby_Interest      250 non-null    object\n",
      " 5   Budget              250 non-null    object\n",
      " 6   Fathers_Occupation  250 non-null    object\n",
      " 7   Mothers_Occupation  250 non-null    object\n",
      " 8   Study_Group         250 non-null    object\n",
      " 9   Degree_Program      250 non-null    object\n",
      " 10  Matric Grade        250 non-null    object\n",
      " 11  Inter Grade         250 non-null    object\n",
      " 12  Campus              250 non-null    object\n",
      " 13  University          250 non-null    object\n",
      "dtypes: object(14)\n",
      "memory usage: 27.5+ KB\n"
     ]
    }
   ],
   "source": [
    "data.info()"
   ]
  },
  {
   "cell_type": "code",
   "execution_count": 4,
   "metadata": {},
   "outputs": [
    {
     "data": {
      "text/html": [
       "<div>\n",
       "<style scoped>\n",
       "    .dataframe tbody tr th:only-of-type {\n",
       "        vertical-align: middle;\n",
       "    }\n",
       "\n",
       "    .dataframe tbody tr th {\n",
       "        vertical-align: top;\n",
       "    }\n",
       "\n",
       "    .dataframe thead th {\n",
       "        text-align: right;\n",
       "    }\n",
       "</style>\n",
       "<table border=\"1\" class=\"dataframe\">\n",
       "  <thead>\n",
       "    <tr style=\"text-align: right;\">\n",
       "      <th></th>\n",
       "      <th>Gender</th>\n",
       "      <th>Race/Ethnicity</th>\n",
       "      <th>Home_City</th>\n",
       "      <th>Preferred_Langauge</th>\n",
       "      <th>Hobby_Interest</th>\n",
       "      <th>Budget</th>\n",
       "      <th>Fathers_Occupation</th>\n",
       "      <th>Mothers_Occupation</th>\n",
       "      <th>Study_Group</th>\n",
       "      <th>Degree_Program</th>\n",
       "      <th>Matric Grade</th>\n",
       "      <th>Inter Grade</th>\n",
       "      <th>Campus</th>\n",
       "      <th>University</th>\n",
       "    </tr>\n",
       "  </thead>\n",
       "  <tbody>\n",
       "    <tr>\n",
       "      <th>count</th>\n",
       "      <td>250</td>\n",
       "      <td>250</td>\n",
       "      <td>250</td>\n",
       "      <td>250</td>\n",
       "      <td>250</td>\n",
       "      <td>250</td>\n",
       "      <td>250</td>\n",
       "      <td>250</td>\n",
       "      <td>250</td>\n",
       "      <td>250</td>\n",
       "      <td>250</td>\n",
       "      <td>250</td>\n",
       "      <td>250</td>\n",
       "      <td>250</td>\n",
       "    </tr>\n",
       "    <tr>\n",
       "      <th>unique</th>\n",
       "      <td>2</td>\n",
       "      <td>5</td>\n",
       "      <td>9</td>\n",
       "      <td>5</td>\n",
       "      <td>5</td>\n",
       "      <td>3</td>\n",
       "      <td>5</td>\n",
       "      <td>3</td>\n",
       "      <td>5</td>\n",
       "      <td>9</td>\n",
       "      <td>9</td>\n",
       "      <td>8</td>\n",
       "      <td>4</td>\n",
       "      <td>5</td>\n",
       "    </tr>\n",
       "    <tr>\n",
       "      <th>top</th>\n",
       "      <td>male</td>\n",
       "      <td>group C</td>\n",
       "      <td>Lahore</td>\n",
       "      <td>Urdu</td>\n",
       "      <td>Nothing</td>\n",
       "      <td>Medium</td>\n",
       "      <td>Doctor</td>\n",
       "      <td>House Wife</td>\n",
       "      <td>Pre-Engrr</td>\n",
       "      <td>BSCS</td>\n",
       "      <td>A+</td>\n",
       "      <td>A+</td>\n",
       "      <td>Islamabad</td>\n",
       "      <td>FAST NUCES</td>\n",
       "    </tr>\n",
       "    <tr>\n",
       "      <th>freq</th>\n",
       "      <td>129</td>\n",
       "      <td>94</td>\n",
       "      <td>58</td>\n",
       "      <td>123</td>\n",
       "      <td>67</td>\n",
       "      <td>121</td>\n",
       "      <td>80</td>\n",
       "      <td>114</td>\n",
       "      <td>79</td>\n",
       "      <td>76</td>\n",
       "      <td>108</td>\n",
       "      <td>65</td>\n",
       "      <td>107</td>\n",
       "      <td>50</td>\n",
       "    </tr>\n",
       "  </tbody>\n",
       "</table>\n",
       "</div>"
      ],
      "text/plain": [
       "       Gender Race/Ethnicity Home_City Preferred_Langauge Hobby_Interest  \\\n",
       "count     250            250       250                250            250   \n",
       "unique      2              5         9                  5              5   \n",
       "top      male        group C    Lahore               Urdu        Nothing   \n",
       "freq      129             94        58                123             67   \n",
       "\n",
       "        Budget Fathers_Occupation Mothers_Occupation Study_Group  \\\n",
       "count      250                250                250         250   \n",
       "unique       3                  5                  3           5   \n",
       "top     Medium             Doctor         House Wife   Pre-Engrr   \n",
       "freq       121                 80                114          79   \n",
       "\n",
       "       Degree_Program Matric Grade Inter Grade     Campus  University  \n",
       "count             250          250         250        250         250  \n",
       "unique              9            9           8          4           5  \n",
       "top              BSCS           A+          A+  Islamabad  FAST NUCES  \n",
       "freq               76          108          65        107          50  "
      ]
     },
     "execution_count": 4,
     "metadata": {},
     "output_type": "execute_result"
    }
   ],
   "source": [
    "data.describe()"
   ]
  },
  {
   "cell_type": "code",
   "execution_count": 5,
   "metadata": {},
   "outputs": [
    {
     "data": {
      "text/plain": [
       "FAST NUCES    50\n",
       "COMSATS       50\n",
       "NUST          50\n",
       "LUMS          50\n",
       "KMC           50\n",
       "Name: University, dtype: int64"
      ]
     },
     "execution_count": 5,
     "metadata": {},
     "output_type": "execute_result"
    }
   ],
   "source": [
    "data['University'].value_counts()"
   ]
  },
  {
   "cell_type": "code",
   "execution_count": 6,
   "metadata": {},
   "outputs": [
    {
     "data": {
      "text/plain": [
       "male      129\n",
       "female    121\n",
       "Name: Gender, dtype: int64"
      ]
     },
     "execution_count": 6,
     "metadata": {},
     "output_type": "execute_result"
    }
   ],
   "source": [
    "data['Gender'].value_counts()"
   ]
  },
  {
   "cell_type": "code",
   "execution_count": 7,
   "metadata": {},
   "outputs": [
    {
     "data": {
      "text/plain": [
       "group C    94\n",
       "group B    58\n",
       "group D    47\n",
       "group A    43\n",
       "group E     8\n",
       "Name: Race/Ethnicity, dtype: int64"
      ]
     },
     "execution_count": 7,
     "metadata": {},
     "output_type": "execute_result"
    }
   ],
   "source": [
    "data['Race/Ethnicity'].value_counts()"
   ]
  },
  {
   "cell_type": "code",
   "execution_count": 8,
   "metadata": {},
   "outputs": [
    {
     "data": {
      "text/plain": [
       "Lahore       58\n",
       "Karachi      53\n",
       "Peshawar     42\n",
       "Kohat        24\n",
       "Islamabad    21\n",
       "Sialkot      19\n",
       "Gujrat       15\n",
       "Bakhar       11\n",
       "Kashmir       7\n",
       "Name: Home_City, dtype: int64"
      ]
     },
     "execution_count": 8,
     "metadata": {},
     "output_type": "execute_result"
    }
   ],
   "source": [
    "data['Home_City'].value_counts()"
   ]
  },
  {
   "cell_type": "code",
   "execution_count": 9,
   "metadata": {},
   "outputs": [
    {
     "data": {
      "text/plain": [
       "Urdu       123\n",
       "Pashto      40\n",
       "Punjabi     37\n",
       "English     31\n",
       "Hinko       19\n",
       "Name: Preferred_Langauge, dtype: int64"
      ]
     },
     "execution_count": 9,
     "metadata": {},
     "output_type": "execute_result"
    }
   ],
   "source": [
    "data['Preferred_Langauge'].value_counts()\n"
   ]
  },
  {
   "cell_type": "code",
   "execution_count": 10,
   "metadata": {},
   "outputs": [
    {
     "data": {
      "text/plain": [
       "Nothing    67\n",
       "Reading    61\n",
       "Gaming     51\n",
       "Sports     40\n",
       "Writing    31\n",
       "Name: Hobby_Interest, dtype: int64"
      ]
     },
     "execution_count": 10,
     "metadata": {},
     "output_type": "execute_result"
    }
   ],
   "source": [
    "data['Hobby_Interest'].value_counts()\n"
   ]
  },
  {
   "cell_type": "code",
   "execution_count": 11,
   "metadata": {},
   "outputs": [
    {
     "data": {
      "text/plain": [
       "Medium    121\n",
       "High      101\n",
       "Low        28\n",
       "Name: Budget, dtype: int64"
      ]
     },
     "execution_count": 11,
     "metadata": {},
     "output_type": "execute_result"
    }
   ],
   "source": [
    "data['Budget'].value_counts()"
   ]
  },
  {
   "cell_type": "code",
   "execution_count": 12,
   "metadata": {},
   "outputs": [
    {
     "data": {
      "text/plain": [
       "Doctor     80\n",
       "Engrr      64\n",
       "Teacher    54\n",
       "Army       33\n",
       "Retired    19\n",
       "Name: Fathers_Occupation, dtype: int64"
      ]
     },
     "execution_count": 12,
     "metadata": {},
     "output_type": "execute_result"
    }
   ],
   "source": [
    "data['Fathers_Occupation'].value_counts()\n"
   ]
  },
  {
   "cell_type": "code",
   "execution_count": 13,
   "metadata": {},
   "outputs": [
    {
     "data": {
      "text/plain": [
       "House Wife    114\n",
       "Doctor         81\n",
       "Teacher        55\n",
       "Name: Mothers_Occupation, dtype: int64"
      ]
     },
     "execution_count": 13,
     "metadata": {},
     "output_type": "execute_result"
    }
   ],
   "source": [
    "data['Mothers_Occupation'].value_counts()\n"
   ]
  },
  {
   "cell_type": "code",
   "execution_count": 14,
   "metadata": {},
   "outputs": [
    {
     "data": {
      "text/plain": [
       "Pre-Engrr    79\n",
       "CS           65\n",
       "Pre-Med      53\n",
       "Arts         34\n",
       "Commerce     19\n",
       "Name: Study_Group, dtype: int64"
      ]
     },
     "execution_count": 14,
     "metadata": {},
     "output_type": "execute_result"
    }
   ],
   "source": [
    "data['Study_Group'].value_counts()"
   ]
  },
  {
   "cell_type": "code",
   "execution_count": 15,
   "metadata": {},
   "outputs": [
    {
     "data": {
      "text/plain": [
       "BSCS       76\n",
       "Medical    48\n",
       "BBA        37\n",
       "BSEE       29\n",
       "BBAF       23\n",
       "BSME       14\n",
       "BSSE       13\n",
       "BSCE        8\n",
       "BSAF        2\n",
       "Name: Degree_Program, dtype: int64"
      ]
     },
     "execution_count": 15,
     "metadata": {},
     "output_type": "execute_result"
    }
   ],
   "source": [
    "data['Degree_Program'].value_counts()\n"
   ]
  },
  {
   "cell_type": "code",
   "execution_count": 16,
   "metadata": {},
   "outputs": [
    {
     "data": {
      "text/plain": [
       "A+    108\n",
       "A      59\n",
       "B      29\n",
       "B+     21\n",
       "A-     12\n",
       "B-     10\n",
       "C+      7\n",
       "C-      3\n",
       "C       1\n",
       "Name: Matric Grade, dtype: int64"
      ]
     },
     "execution_count": 16,
     "metadata": {},
     "output_type": "execute_result"
    }
   ],
   "source": [
    "data['Matric Grade'].value_counts()"
   ]
  },
  {
   "cell_type": "code",
   "execution_count": 17,
   "metadata": {},
   "outputs": [
    {
     "data": {
      "text/plain": [
       "A+    65\n",
       "A     65\n",
       "B+    45\n",
       "A-    25\n",
       "B-    24\n",
       "B     22\n",
       "C+     3\n",
       "C-     1\n",
       "Name: Inter Grade, dtype: int64"
      ]
     },
     "execution_count": 17,
     "metadata": {},
     "output_type": "execute_result"
    }
   ],
   "source": [
    "data['Inter Grade'].value_counts()"
   ]
  },
  {
   "cell_type": "code",
   "execution_count": 18,
   "metadata": {},
   "outputs": [
    {
     "data": {
      "text/plain": [
       "Islamabad    107\n",
       "Lahore        71\n",
       "Peshawar      64\n",
       "Karachi        8\n",
       "Name: Campus, dtype: int64"
      ]
     },
     "execution_count": 18,
     "metadata": {},
     "output_type": "execute_result"
    }
   ],
   "source": [
    "data['Campus'].value_counts()"
   ]
  },
  {
   "cell_type": "code",
   "execution_count": 19,
   "metadata": {},
   "outputs": [
    {
     "data": {
      "text/plain": [
       "FAST NUCES    50\n",
       "COMSATS       50\n",
       "NUST          50\n",
       "LUMS          50\n",
       "KMC           50\n",
       "Name: University, dtype: int64"
      ]
     },
     "execution_count": 19,
     "metadata": {},
     "output_type": "execute_result"
    }
   ],
   "source": [
    "data['University'].value_counts()"
   ]
  },
  {
   "attachments": {},
   "cell_type": "markdown",
   "metadata": {},
   "source": [
    "#### Transforming data into numeric for machine learning\n"
   ]
  },
  {
   "cell_type": "code",
   "execution_count": 20,
   "metadata": {},
   "outputs": [
    {
     "data": {
      "text/html": [
       "<div>\n",
       "<style scoped>\n",
       "    .dataframe tbody tr th:only-of-type {\n",
       "        vertical-align: middle;\n",
       "    }\n",
       "\n",
       "    .dataframe tbody tr th {\n",
       "        vertical-align: top;\n",
       "    }\n",
       "\n",
       "    .dataframe thead th {\n",
       "        text-align: right;\n",
       "    }\n",
       "</style>\n",
       "<table border=\"1\" class=\"dataframe\">\n",
       "  <thead>\n",
       "    <tr style=\"text-align: right;\">\n",
       "      <th></th>\n",
       "      <th>Gender</th>\n",
       "      <th>Race/Ethnicity</th>\n",
       "      <th>Home_City</th>\n",
       "      <th>Preferred_Langauge</th>\n",
       "      <th>Hobby_Interest</th>\n",
       "      <th>Budget</th>\n",
       "      <th>Fathers_Occupation</th>\n",
       "      <th>Mothers_Occupation</th>\n",
       "      <th>Study_Group</th>\n",
       "      <th>Degree_Program</th>\n",
       "      <th>Matric Grade</th>\n",
       "      <th>Inter Grade</th>\n",
       "      <th>Campus</th>\n",
       "      <th>University</th>\n",
       "    </tr>\n",
       "  </thead>\n",
       "  <tbody>\n",
       "    <tr>\n",
       "      <th>0</th>\n",
       "      <td>female</td>\n",
       "      <td>group B</td>\n",
       "      <td>Karachi</td>\n",
       "      <td>Punjabi</td>\n",
       "      <td>Reading</td>\n",
       "      <td>High</td>\n",
       "      <td>Doctor</td>\n",
       "      <td>House Wife</td>\n",
       "      <td>CS</td>\n",
       "      <td>BSCS</td>\n",
       "      <td>A+</td>\n",
       "      <td>A+</td>\n",
       "      <td>Karachi</td>\n",
       "      <td>FAST NUCES</td>\n",
       "    </tr>\n",
       "  </tbody>\n",
       "</table>\n",
       "</div>"
      ],
      "text/plain": [
       "   Gender Race/Ethnicity Home_City Preferred_Langauge Hobby_Interest Budget  \\\n",
       "0  female        group B   Karachi            Punjabi        Reading   High   \n",
       "\n",
       "  Fathers_Occupation Mothers_Occupation Study_Group Degree_Program  \\\n",
       "0             Doctor         House Wife          CS           BSCS   \n",
       "\n",
       "  Matric Grade Inter Grade   Campus  University  \n",
       "0           A+          A+  Karachi  FAST NUCES  "
      ]
     },
     "execution_count": 20,
     "metadata": {},
     "output_type": "execute_result"
    }
   ],
   "source": [
    "data_2 = data.copy()\n",
    "data_2.head(1)"
   ]
  },
  {
   "cell_type": "code",
   "execution_count": 31,
   "metadata": {},
   "outputs": [],
   "source": [
    "le = preprocessing.LabelEncoder()\n",
    "\n",
    "gender = le.fit_transform(list(data_2['Gender']))\n",
    "race = le.fit_transform(list(data_2['Race/Ethnicity']))\n",
    "home_city = le.fit_transform(list(data_2['Home_City']))\n",
    "preferred_lang = le.fit_transform(list(data_2['Preferred_Langauge']))\n",
    "hobby_interest = le.fit_transform(list(data_2['Hobby_Interest']))\n",
    "budget = le.fit_transform(list(data_2['Budget']))\n",
    "F_Occ = le.fit_transform(list(data_2['Fathers_Occupation']))\n",
    "M_Occ = le.fit_transform(list(data_2['Mothers_Occupation']))\n",
    "study_group = le.fit_transform(list(data_2['Study_Group']))\n",
    "degree_program = le.fit_transform(list(data_2['Degree_Program']))\n",
    "matric_grade = le.fit_transform(list(data_2['Matric Grade']))\n",
    "inter_grade = le.fit_transform(list(data_2['Inter Grade']))\n",
    "campus = le.fit_transform(list(data_2['Campus']))\n",
    "\n",
    "class_attribute = le.fit_transform(list(data_2['University']))\n",
    "\n",
    "data_numeric = pd.DataFrame(list(zip(gender, race, home_city, preferred_lang, hobby_interest, budget, F_Occ, M_Occ, study_group,\n",
    "                                     degree_program, matric_grade, inter_grade, campus, class_attribute)), columns=['Gender', 'Race/Ethnicity', 'Home_City', 'Preferred_Langauge', 'Hobby_Interest', 'Budget', 'Fathers_Occupation', 'Mothers_Occupation', 'Study_Group', 'Degree_Program', 'Matric Grade', 'Inter Grade', 'Campus', 'Univerity'])\n",
    "\n",
    "X = pd.DataFrame(list(zip(gender, race, home_city, preferred_lang, hobby_interest, budget, F_Occ, M_Occ, study_group,\n",
    "                                     degree_program, matric_grade, inter_grade, campus)), columns=['Gender', 'Race/Ethnicity', 'Home_City', 'Preferred_Langauge', 'Hobby_Interest', 'Budget', 'Fathers_Occupation', 'Mothers_Occupation', 'Study_Group', 'Degree_Program', 'Matric Grade', 'Inter Grade', 'Campus'])\n",
    "\n",
    "y = list(class_attribute)\n",
    "\n"
   ]
  },
  {
   "cell_type": "code",
   "execution_count": 32,
   "metadata": {},
   "outputs": [
    {
     "data": {
      "text/html": [
       "<div>\n",
       "<style scoped>\n",
       "    .dataframe tbody tr th:only-of-type {\n",
       "        vertical-align: middle;\n",
       "    }\n",
       "\n",
       "    .dataframe tbody tr th {\n",
       "        vertical-align: top;\n",
       "    }\n",
       "\n",
       "    .dataframe thead th {\n",
       "        text-align: right;\n",
       "    }\n",
       "</style>\n",
       "<table border=\"1\" class=\"dataframe\">\n",
       "  <thead>\n",
       "    <tr style=\"text-align: right;\">\n",
       "      <th></th>\n",
       "      <th>Gender</th>\n",
       "      <th>Race/Ethnicity</th>\n",
       "      <th>Home_City</th>\n",
       "      <th>Preferred_Langauge</th>\n",
       "      <th>Hobby_Interest</th>\n",
       "      <th>Budget</th>\n",
       "      <th>Fathers_Occupation</th>\n",
       "      <th>Mothers_Occupation</th>\n",
       "      <th>Study_Group</th>\n",
       "      <th>Degree_Program</th>\n",
       "      <th>Matric Grade</th>\n",
       "      <th>Inter Grade</th>\n",
       "      <th>Campus</th>\n",
       "      <th>Univerity</th>\n",
       "    </tr>\n",
       "  </thead>\n",
       "  <tbody>\n",
       "    <tr>\n",
       "      <th>0</th>\n",
       "      <td>0</td>\n",
       "      <td>1</td>\n",
       "      <td>3</td>\n",
       "      <td>3</td>\n",
       "      <td>2</td>\n",
       "      <td>0</td>\n",
       "      <td>1</td>\n",
       "      <td>1</td>\n",
       "      <td>1</td>\n",
       "      <td>4</td>\n",
       "      <td>1</td>\n",
       "      <td>1</td>\n",
       "      <td>1</td>\n",
       "      <td>1</td>\n",
       "    </tr>\n",
       "    <tr>\n",
       "      <th>1</th>\n",
       "      <td>0</td>\n",
       "      <td>2</td>\n",
       "      <td>3</td>\n",
       "      <td>4</td>\n",
       "      <td>2</td>\n",
       "      <td>2</td>\n",
       "      <td>2</td>\n",
       "      <td>1</td>\n",
       "      <td>3</td>\n",
       "      <td>5</td>\n",
       "      <td>3</td>\n",
       "      <td>3</td>\n",
       "      <td>0</td>\n",
       "      <td>1</td>\n",
       "    </tr>\n",
       "    <tr>\n",
       "      <th>2</th>\n",
       "      <td>0</td>\n",
       "      <td>1</td>\n",
       "      <td>6</td>\n",
       "      <td>4</td>\n",
       "      <td>3</td>\n",
       "      <td>2</td>\n",
       "      <td>2</td>\n",
       "      <td>1</td>\n",
       "      <td>3</td>\n",
       "      <td>4</td>\n",
       "      <td>3</td>\n",
       "      <td>0</td>\n",
       "      <td>2</td>\n",
       "      <td>1</td>\n",
       "    </tr>\n",
       "    <tr>\n",
       "      <th>3</th>\n",
       "      <td>1</td>\n",
       "      <td>0</td>\n",
       "      <td>3</td>\n",
       "      <td>4</td>\n",
       "      <td>3</td>\n",
       "      <td>0</td>\n",
       "      <td>1</td>\n",
       "      <td>1</td>\n",
       "      <td>3</td>\n",
       "      <td>4</td>\n",
       "      <td>1</td>\n",
       "      <td>1</td>\n",
       "      <td>0</td>\n",
       "      <td>1</td>\n",
       "    </tr>\n",
       "    <tr>\n",
       "      <th>4</th>\n",
       "      <td>1</td>\n",
       "      <td>2</td>\n",
       "      <td>7</td>\n",
       "      <td>4</td>\n",
       "      <td>0</td>\n",
       "      <td>0</td>\n",
       "      <td>1</td>\n",
       "      <td>1</td>\n",
       "      <td>1</td>\n",
       "      <td>5</td>\n",
       "      <td>1</td>\n",
       "      <td>1</td>\n",
       "      <td>3</td>\n",
       "      <td>1</td>\n",
       "    </tr>\n",
       "  </tbody>\n",
       "</table>\n",
       "</div>"
      ],
      "text/plain": [
       "   Gender  Race/Ethnicity  Home_City  Preferred_Langauge  Hobby_Interest  \\\n",
       "0       0               1          3                   3               2   \n",
       "1       0               2          3                   4               2   \n",
       "2       0               1          6                   4               3   \n",
       "3       1               0          3                   4               3   \n",
       "4       1               2          7                   4               0   \n",
       "\n",
       "   Budget  Fathers_Occupation  Mothers_Occupation  Study_Group  \\\n",
       "0       0                   1                   1            1   \n",
       "1       2                   2                   1            3   \n",
       "2       2                   2                   1            3   \n",
       "3       0                   1                   1            3   \n",
       "4       0                   1                   1            1   \n",
       "\n",
       "   Degree_Program  Matric Grade  Inter Grade  Campus  Univerity  \n",
       "0               4             1            1       1          1  \n",
       "1               5             3            3       0          1  \n",
       "2               4             3            0       2          1  \n",
       "3               4             1            1       0          1  \n",
       "4               5             1            1       3          1  "
      ]
     },
     "execution_count": 32,
     "metadata": {},
     "output_type": "execute_result"
    }
   ],
   "source": [
    "data_numeric.head()"
   ]
  },
  {
   "cell_type": "code",
   "execution_count": 26,
   "metadata": {},
   "outputs": [],
   "source": [
    "data_numeric.to_csv('CleanData_Numeric.csv', index=False)"
   ]
  }
 ],
 "metadata": {
  "kernelspec": {
   "display_name": "Python 3",
   "language": "python",
   "name": "python3"
  },
  "language_info": {
   "codemirror_mode": {
    "name": "ipython",
    "version": 3
   },
   "file_extension": ".py",
   "mimetype": "text/x-python",
   "name": "python",
   "nbconvert_exporter": "python",
   "pygments_lexer": "ipython3",
   "version": "3.10.7 (tags/v3.10.7:6cc6b13, Sep  5 2022, 14:08:36) [MSC v.1933 64 bit (AMD64)]"
  },
  "orig_nbformat": 4,
  "vscode": {
   "interpreter": {
    "hash": "f2ccb58c476f33ba3e3aee7ac07234ef6b8217ef24ad64d2a7d4fed1a57c1cd2"
   }
  }
 },
 "nbformat": 4,
 "nbformat_minor": 2
}
