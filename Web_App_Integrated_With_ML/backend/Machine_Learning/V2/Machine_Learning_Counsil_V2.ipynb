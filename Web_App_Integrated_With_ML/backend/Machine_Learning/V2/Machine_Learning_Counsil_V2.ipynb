{
 "cells": [
  {
   "cell_type": "code",
   "execution_count": 214,
   "metadata": {},
   "outputs": [],
   "source": [
    "import pandas as pd\n",
    "import numpy as np\n",
    "import matplotlib.pyplot as plt\n",
    "\n",
    "import pymongo\n",
    "import pickle\n",
    "import time\n",
    "import certifi\n",
    "\n",
    "from sklearn import preprocessing\n",
    "from sklearn.model_selection import train_test_split\n",
    "\n",
    "from sklearn.svm import SVC\n",
    "from sklearn.tree import DecisionTreeClassifier\n",
    "\n",
    "import xgboost as xgb\n",
    "from sklearn.ensemble import RandomForestClassifier\n",
    "from sklearn.ensemble import BaggingClassifier\n",
    "from sklearn.ensemble import AdaBoostClassifier\n",
    "\n",
    "from sklearn.model_selection import cross_val_score\n",
    "from sklearn.metrics import accuracy_score\n",
    "from sklearn import metrics\n",
    "from sklearn.metrics import confusion_matrix\n",
    "from sklearn.metrics import classification_report\n"
   ]
  },
  {
   "cell_type": "code",
   "execution_count": 215,
   "metadata": {},
   "outputs": [
    {
     "data": {
      "text/html": [
       "<div>\n",
       "<style scoped>\n",
       "    .dataframe tbody tr th:only-of-type {\n",
       "        vertical-align: middle;\n",
       "    }\n",
       "\n",
       "    .dataframe tbody tr th {\n",
       "        vertical-align: top;\n",
       "    }\n",
       "\n",
       "    .dataframe thead th {\n",
       "        text-align: right;\n",
       "    }\n",
       "</style>\n",
       "<table border=\"1\" class=\"dataframe\">\n",
       "  <thead>\n",
       "    <tr style=\"text-align: right;\">\n",
       "      <th></th>\n",
       "      <th>Gender</th>\n",
       "      <th>Race/Ethnicity</th>\n",
       "      <th>Home_City</th>\n",
       "      <th>Preferred_Langauge</th>\n",
       "      <th>Hobby_Interest</th>\n",
       "      <th>Budget</th>\n",
       "      <th>Fathers_Occupation</th>\n",
       "      <th>Mothers_Occupation</th>\n",
       "      <th>Study_Group</th>\n",
       "      <th>Degree_Program</th>\n",
       "      <th>Matric_Grade</th>\n",
       "      <th>Inter_Grade</th>\n",
       "      <th>Year_of_Admission</th>\n",
       "      <th>Campus</th>\n",
       "      <th>University</th>\n",
       "    </tr>\n",
       "  </thead>\n",
       "  <tbody>\n",
       "    <tr>\n",
       "      <th>0</th>\n",
       "      <td>male</td>\n",
       "      <td>Punjabi</td>\n",
       "      <td>Peshawar</td>\n",
       "      <td>Urdu</td>\n",
       "      <td>Nothing</td>\n",
       "      <td>Low</td>\n",
       "      <td>Doctor</td>\n",
       "      <td>House Wife</td>\n",
       "      <td>CS</td>\n",
       "      <td>BSCS</td>\n",
       "      <td>A</td>\n",
       "      <td>C</td>\n",
       "      <td>2019</td>\n",
       "      <td>Peshawar</td>\n",
       "      <td>FAST NUCES</td>\n",
       "    </tr>\n",
       "    <tr>\n",
       "      <th>1</th>\n",
       "      <td>male</td>\n",
       "      <td>Pashtun</td>\n",
       "      <td>Kohat</td>\n",
       "      <td>Pashto</td>\n",
       "      <td>Reading</td>\n",
       "      <td>Low</td>\n",
       "      <td>Engrr</td>\n",
       "      <td>House Wife</td>\n",
       "      <td>Pre-Engrr</td>\n",
       "      <td>BSEE</td>\n",
       "      <td>B</td>\n",
       "      <td>B</td>\n",
       "      <td>2020</td>\n",
       "      <td>Islamabad</td>\n",
       "      <td>COMSATS</td>\n",
       "    </tr>\n",
       "    <tr>\n",
       "      <th>2</th>\n",
       "      <td>male</td>\n",
       "      <td>Punjabi</td>\n",
       "      <td>Islamabad</td>\n",
       "      <td>Punjabi</td>\n",
       "      <td>Gaming</td>\n",
       "      <td>High</td>\n",
       "      <td>Army</td>\n",
       "      <td>Doctor</td>\n",
       "      <td>Pre-Engrr</td>\n",
       "      <td>BSME</td>\n",
       "      <td>B</td>\n",
       "      <td>B</td>\n",
       "      <td>2019</td>\n",
       "      <td>Lahore</td>\n",
       "      <td>LUMS</td>\n",
       "    </tr>\n",
       "    <tr>\n",
       "      <th>3</th>\n",
       "      <td>female</td>\n",
       "      <td>Punjabi</td>\n",
       "      <td>Islamabad</td>\n",
       "      <td>Urdu</td>\n",
       "      <td>Nothing</td>\n",
       "      <td>Low</td>\n",
       "      <td>Engrr</td>\n",
       "      <td>House Wife</td>\n",
       "      <td>Pre-Med</td>\n",
       "      <td>Medical</td>\n",
       "      <td>B</td>\n",
       "      <td>B</td>\n",
       "      <td>2019</td>\n",
       "      <td>Peshawar</td>\n",
       "      <td>KMC</td>\n",
       "    </tr>\n",
       "    <tr>\n",
       "      <th>4</th>\n",
       "      <td>female</td>\n",
       "      <td>Other</td>\n",
       "      <td>Lahore</td>\n",
       "      <td>English</td>\n",
       "      <td>Sports</td>\n",
       "      <td>High</td>\n",
       "      <td>Doctor</td>\n",
       "      <td>Teacher</td>\n",
       "      <td>Pre-Engrr</td>\n",
       "      <td>BSEE</td>\n",
       "      <td>B</td>\n",
       "      <td>B</td>\n",
       "      <td>2019</td>\n",
       "      <td>Lahore</td>\n",
       "      <td>LUMS</td>\n",
       "    </tr>\n",
       "  </tbody>\n",
       "</table>\n",
       "</div>"
      ],
      "text/plain": [
       "   Gender Race/Ethnicity  Home_City Preferred_Langauge Hobby_Interest Budget  \\\n",
       "0    male        Punjabi   Peshawar               Urdu        Nothing    Low   \n",
       "1    male        Pashtun      Kohat             Pashto        Reading    Low   \n",
       "2    male        Punjabi  Islamabad            Punjabi         Gaming   High   \n",
       "3  female        Punjabi  Islamabad               Urdu        Nothing    Low   \n",
       "4  female          Other     Lahore            English         Sports   High   \n",
       "\n",
       "  Fathers_Occupation Mothers_Occupation Study_Group Degree_Program  \\\n",
       "0             Doctor         House Wife          CS           BSCS   \n",
       "1              Engrr         House Wife   Pre-Engrr           BSEE   \n",
       "2               Army             Doctor   Pre-Engrr           BSME   \n",
       "3              Engrr         House Wife     Pre-Med        Medical   \n",
       "4             Doctor            Teacher   Pre-Engrr           BSEE   \n",
       "\n",
       "  Matric_Grade Inter_Grade  Year_of_Admission     Campus  University  \n",
       "0            A           C               2019   Peshawar  FAST NUCES  \n",
       "1            B           B               2020  Islamabad     COMSATS  \n",
       "2            B           B               2019     Lahore        LUMS  \n",
       "3            B           B               2019   Peshawar         KMC  \n",
       "4            B           B               2019     Lahore        LUMS  "
      ]
     },
     "execution_count": 215,
     "metadata": {},
     "output_type": "execute_result"
    }
   ],
   "source": [
    "data = pd.read_csv('./CleanData_V2_Preprocessed.csv')\n",
    "data.head()"
   ]
  },
  {
   "attachments": {},
   "cell_type": "markdown",
   "metadata": {},
   "source": [
    "### Feature Engineering"
   ]
  },
  {
   "cell_type": "code",
   "execution_count": 216,
   "metadata": {},
   "outputs": [],
   "source": [
    "data.drop(columns=['Gender', 'Hobby_Interest',\n",
    "          'Fathers_Occupation', 'Mothers_Occupation', 'Year_of_Admission'],  inplace=True)\n"
   ]
  },
  {
   "cell_type": "code",
   "execution_count": 217,
   "metadata": {},
   "outputs": [
    {
     "data": {
      "text/html": [
       "<div>\n",
       "<style scoped>\n",
       "    .dataframe tbody tr th:only-of-type {\n",
       "        vertical-align: middle;\n",
       "    }\n",
       "\n",
       "    .dataframe tbody tr th {\n",
       "        vertical-align: top;\n",
       "    }\n",
       "\n",
       "    .dataframe thead th {\n",
       "        text-align: right;\n",
       "    }\n",
       "</style>\n",
       "<table border=\"1\" class=\"dataframe\">\n",
       "  <thead>\n",
       "    <tr style=\"text-align: right;\">\n",
       "      <th></th>\n",
       "      <th>Race/Ethnicity</th>\n",
       "      <th>Home_City</th>\n",
       "      <th>Preferred_Langauge</th>\n",
       "      <th>Budget</th>\n",
       "      <th>Study_Group</th>\n",
       "      <th>Degree_Program</th>\n",
       "      <th>Matric_Grade</th>\n",
       "      <th>Inter_Grade</th>\n",
       "      <th>Campus</th>\n",
       "      <th>University</th>\n",
       "    </tr>\n",
       "  </thead>\n",
       "  <tbody>\n",
       "    <tr>\n",
       "      <th>0</th>\n",
       "      <td>Punjabi</td>\n",
       "      <td>Peshawar</td>\n",
       "      <td>Urdu</td>\n",
       "      <td>Low</td>\n",
       "      <td>CS</td>\n",
       "      <td>BSCS</td>\n",
       "      <td>A</td>\n",
       "      <td>C</td>\n",
       "      <td>Peshawar</td>\n",
       "      <td>FAST NUCES</td>\n",
       "    </tr>\n",
       "    <tr>\n",
       "      <th>1</th>\n",
       "      <td>Pashtun</td>\n",
       "      <td>Kohat</td>\n",
       "      <td>Pashto</td>\n",
       "      <td>Low</td>\n",
       "      <td>Pre-Engrr</td>\n",
       "      <td>BSEE</td>\n",
       "      <td>B</td>\n",
       "      <td>B</td>\n",
       "      <td>Islamabad</td>\n",
       "      <td>COMSATS</td>\n",
       "    </tr>\n",
       "    <tr>\n",
       "      <th>2</th>\n",
       "      <td>Punjabi</td>\n",
       "      <td>Islamabad</td>\n",
       "      <td>Punjabi</td>\n",
       "      <td>High</td>\n",
       "      <td>Pre-Engrr</td>\n",
       "      <td>BSME</td>\n",
       "      <td>B</td>\n",
       "      <td>B</td>\n",
       "      <td>Lahore</td>\n",
       "      <td>LUMS</td>\n",
       "    </tr>\n",
       "    <tr>\n",
       "      <th>3</th>\n",
       "      <td>Punjabi</td>\n",
       "      <td>Islamabad</td>\n",
       "      <td>Urdu</td>\n",
       "      <td>Low</td>\n",
       "      <td>Pre-Med</td>\n",
       "      <td>Medical</td>\n",
       "      <td>B</td>\n",
       "      <td>B</td>\n",
       "      <td>Peshawar</td>\n",
       "      <td>KMC</td>\n",
       "    </tr>\n",
       "    <tr>\n",
       "      <th>4</th>\n",
       "      <td>Other</td>\n",
       "      <td>Lahore</td>\n",
       "      <td>English</td>\n",
       "      <td>High</td>\n",
       "      <td>Pre-Engrr</td>\n",
       "      <td>BSEE</td>\n",
       "      <td>B</td>\n",
       "      <td>B</td>\n",
       "      <td>Lahore</td>\n",
       "      <td>LUMS</td>\n",
       "    </tr>\n",
       "  </tbody>\n",
       "</table>\n",
       "</div>"
      ],
      "text/plain": [
       "  Race/Ethnicity  Home_City Preferred_Langauge Budget Study_Group  \\\n",
       "0        Punjabi   Peshawar               Urdu    Low          CS   \n",
       "1        Pashtun      Kohat             Pashto    Low   Pre-Engrr   \n",
       "2        Punjabi  Islamabad            Punjabi   High   Pre-Engrr   \n",
       "3        Punjabi  Islamabad               Urdu    Low     Pre-Med   \n",
       "4          Other     Lahore            English   High   Pre-Engrr   \n",
       "\n",
       "  Degree_Program Matric_Grade Inter_Grade     Campus  University  \n",
       "0           BSCS            A           C   Peshawar  FAST NUCES  \n",
       "1           BSEE            B           B  Islamabad     COMSATS  \n",
       "2           BSME            B           B     Lahore        LUMS  \n",
       "3        Medical            B           B   Peshawar         KMC  \n",
       "4           BSEE            B           B     Lahore        LUMS  "
      ]
     },
     "execution_count": 217,
     "metadata": {},
     "output_type": "execute_result"
    }
   ],
   "source": [
    "data.head()"
   ]
  },
  {
   "attachments": {},
   "cell_type": "markdown",
   "metadata": {},
   "source": [
    "### Splitting Data"
   ]
  },
  {
   "cell_type": "code",
   "execution_count": 218,
   "metadata": {},
   "outputs": [],
   "source": [
    "X = data.iloc[:, 0:9]\n",
    "y = data.iloc[:, 9]"
   ]
  },
  {
   "attachments": {},
   "cell_type": "markdown",
   "metadata": {},
   "source": [
    "### Encoding Data for Machine Learning"
   ]
  },
  {
   "cell_type": "code",
   "execution_count": 219,
   "metadata": {},
   "outputs": [],
   "source": [
    "le = preprocessing.LabelEncoder()\n",
    "\n",
    "# gender = le.fit_transform(list(X['Gender']))\n",
    "race = le.fit_transform(list(X['Race/Ethnicity']))\n",
    "home_city = le.fit_transform(list(X['Home_City']))\n",
    "preferred_lang = le.fit_transform(list(X['Preferred_Langauge']))\n",
    "# hobby_interest = le.fit_transform(list(X['Hobby_Interest']))\n",
    "budget = le.fit_transform(list(X['Budget']))\n",
    "# F_Occ = le.fit_transform(list(X['Fathers_Occupation']))\n",
    "# M_Occ = le.fit_transform(list(X['Mothers_Occupation']))\n",
    "study_group = le.fit_transform(list(X['Study_Group']))\n",
    "degree_program = le.fit_transform(list(X['Degree_Program']))\n",
    "matric_grade = le.fit_transform(list(X['Matric_Grade']))\n",
    "inter_grade = le.fit_transform(list(X['Inter_Grade']))\n",
    "campus = le.fit_transform(list(X['Campus']))\n",
    "\n",
    "class_attribute = le.fit_transform(list(y))\n",
    "\n",
    "X_prep = pd.DataFrame(list(zip(race, home_city, preferred_lang,budget,study_group,\n",
    "                               degree_program, matric_grade, inter_grade, campus)), columns=['Race/Ethnicity', 'Home_City', 'Preferred_Langauge', 'Budget', 'Study_Group', 'Degree_Program', 'Matric Grade', 'Inter Grade', 'Campus'])\n",
    "\n",
    "y_prep = pd.DataFrame(list(class_attribute), columns=['University'])\n"
   ]
  },
  {
   "attachments": {},
   "cell_type": "markdown",
   "metadata": {},
   "source": [
    "### Splitting Data"
   ]
  },
  {
   "cell_type": "code",
   "execution_count": 220,
   "metadata": {},
   "outputs": [],
   "source": [
    "X_train, X_test, Y_train, Y_test = train_test_split(X_prep, y_prep, random_state=99)"
   ]
  },
  {
   "cell_type": "code",
   "execution_count": 221,
   "metadata": {},
   "outputs": [
    {
     "name": "stdout",
     "output_type": "stream",
     "text": [
      "(150, 9)\n",
      "(50, 9)\n",
      "(150, 1)\n",
      "(50, 1)\n"
     ]
    }
   ],
   "source": [
    "print(X_train.shape)\n",
    "print(X_test.shape)\n",
    "print(Y_train.shape)\n",
    "print(Y_test.shape)"
   ]
  },
  {
   "cell_type": "code",
   "execution_count": 222,
   "metadata": {},
   "outputs": [
    {
     "data": {
      "text/plain": [
       "array([7, 6, 2, 5, 1, 8, 9, 1, 3, 0, 8, 8, 2, 7, 4, 1, 0, 9, 4, 6, 8, 4,\n",
       "       4, 0, 3, 5, 1, 2, 6, 4, 8, 5, 8, 8, 7, 9, 3, 0, 3, 2, 5, 7, 2, 2,\n",
       "       5, 0, 5, 3, 4, 6, 6, 4, 9, 2, 4, 6, 1, 0, 1, 7, 1, 9, 2, 1, 7, 2,\n",
       "       2, 4, 7, 6, 0, 7, 5, 3, 3, 1, 0, 0, 7, 7, 3, 5, 9, 3, 6, 9, 1, 3,\n",
       "       9, 8, 3, 0, 7, 9, 2, 1, 0, 8, 5, 1, 2, 8, 3, 3, 0, 4, 0, 2, 4, 9,\n",
       "       8, 4, 2, 1, 9, 6, 5, 5, 8, 3, 3, 2, 2, 7, 4, 6, 5, 8, 4, 1, 7, 5,\n",
       "       4, 4, 6, 6, 0, 9, 3, 5, 0, 6, 5, 6, 7, 6, 8, 0, 2, 8], dtype=int64)"
      ]
     },
     "execution_count": 222,
     "metadata": {},
     "output_type": "execute_result"
    }
   ],
   "source": [
    "Y_train = np.ravel(Y_train)\n",
    "Y_train"
   ]
  },
  {
   "attachments": {},
   "cell_type": "markdown",
   "metadata": {},
   "source": [
    "# Creating Machine Learning Models"
   ]
  },
  {
   "cell_type": "code",
   "execution_count": 223,
   "metadata": {},
   "outputs": [
    {
     "name": "stdout",
     "output_type": "stream",
     "text": [
      "Accuracy:  88.0 %\n"
     ]
    }
   ],
   "source": [
    "# RFC Model Training\n",
    "rfc = RandomForestClassifier(\n",
    "    n_estimators=100, criterion='gini', random_state=99)\n",
    "rfc.fit(X_train, Y_train)\n",
    "y_pred1 = rfc.predict(X_test)\n",
    "print(\"Accuracy: \", accuracy_score(Y_test, y_pred1)*100, \"%\")"
   ]
  },
  {
   "cell_type": "code",
   "execution_count": 224,
   "metadata": {},
   "outputs": [
    {
     "name": "stdout",
     "output_type": "stream",
     "text": [
      "              precision    recall  f1-score   support\n",
      "\n",
      "           0       1.00      1.00      1.00         4\n",
      "           1       0.83      0.71      0.77         7\n",
      "           2       0.67      1.00      0.80         2\n",
      "           3       1.00      0.67      0.80         6\n",
      "           4       1.00      1.00      1.00         4\n",
      "           5       1.00      1.00      1.00         5\n",
      "           6       0.80      0.80      0.80         5\n",
      "           7       0.83      0.83      0.83         6\n",
      "           8       1.00      1.00      1.00         5\n",
      "           9       0.75      1.00      0.86         6\n",
      "\n",
      "    accuracy                           0.88        50\n",
      "   macro avg       0.89      0.90      0.89        50\n",
      "weighted avg       0.89      0.88      0.88        50\n",
      "\n"
     ]
    }
   ],
   "source": [
    "print(classification_report(y_pred1, Y_test))\n"
   ]
  },
  {
   "attachments": {},
   "cell_type": "markdown",
   "metadata": {},
   "source": [
    "### Cross-Validation of RFC"
   ]
  },
  {
   "cell_type": "code",
   "execution_count": 225,
   "metadata": {},
   "outputs": [
    {
     "name": "stdout",
     "output_type": "stream",
     "text": [
      "Cross-Validation Accuracy:  82.05128205128204\n"
     ]
    }
   ],
   "source": [
    "result = cross_val_score(rfc, X_train, Y_train, cv=12)\n",
    "rfc_CV_accuracy = result.mean()*100\n",
    "print(\"Cross-Validation Accuracy: \", rfc_CV_accuracy)\n"
   ]
  },
  {
   "cell_type": "code",
   "execution_count": 226,
   "metadata": {},
   "outputs": [
    {
     "data": {
      "image/png": "[encoded data removed]",
      "text/plain": [
       "<Figure size 432x288 with 1 Axes>"
      ]
     },
     "metadata": {
      "needs_background": "light"
     },
     "output_type": "display_data"
    }
   ],
   "source": [
    "features = data.columns\n",
    "importance = rfc.feature_importances_\n",
    "indices = np.argsort(importance)\n",
    "\n",
    "plt.title('Feature Importance of RFC')\n",
    "plt.barh(range(len(indices)), importance[indices], color='b', align='center')\n",
    "plt.yticks(range(len(indices)), [features[i] for i in indices])\n",
    "plt.xlabel('Relative Importance')\n",
    "plt.show()\n"
   ]
  },
  {
   "cell_type": "code",
   "execution_count": 227,
   "metadata": {},
   "outputs": [
    {
     "name": "stdout",
     "output_type": "stream",
     "text": [
      "Accuracy:  70.0 %\n"
     ]
    }
   ],
   "source": [
    "# SVC Model Training\n",
    "svc = SVC(kernel='linear', C=1.0, random_state=5)\n",
    "svc.fit(X_train, Y_train)\n",
    "y_pred2 = svc.predict(X_test)\n",
    "print(\"Accuracy: \", accuracy_score(Y_test, y_pred2)*100, \"%\")\n"
   ]
  },
  {
   "cell_type": "code",
   "execution_count": 228,
   "metadata": {},
   "outputs": [
    {
     "name": "stdout",
     "output_type": "stream",
     "text": [
      "              precision    recall  f1-score   support\n",
      "\n",
      "           0       0.50      0.50      0.50         4\n",
      "           1       0.67      0.80      0.73         5\n",
      "           2       0.33      0.25      0.29         4\n",
      "           3       0.50      0.33      0.40         6\n",
      "           4       1.00      1.00      1.00         4\n",
      "           5       0.80      1.00      0.89         4\n",
      "           6       1.00      0.83      0.91         6\n",
      "           7       0.67      0.67      0.67         6\n",
      "           8       0.80      0.80      0.80         5\n",
      "           9       0.62      0.83      0.71         6\n",
      "\n",
      "    accuracy                           0.70        50\n",
      "   macro avg       0.69      0.70      0.69        50\n",
      "weighted avg       0.69      0.70      0.69        50\n",
      "\n"
     ]
    }
   ],
   "source": [
    "print(classification_report(y_pred2, Y_test))\n"
   ]
  },
  {
   "attachments": {},
   "cell_type": "markdown",
   "metadata": {},
   "source": [
    "### Cross-Validation of SVC"
   ]
  },
  {
   "cell_type": "code",
   "execution_count": 229,
   "metadata": {},
   "outputs": [
    {
     "name": "stdout",
     "output_type": "stream",
     "text": [
      "Cross-Validation Accuracy:  73.33333333333331\n"
     ]
    }
   ],
   "source": [
    "result = cross_val_score(svc, X_train, Y_train, cv=10)\n",
    "svc_CV_accuracy = result.mean()*100\n",
    "print(\"Cross-Validation Accuracy: \", svc_CV_accuracy)\n"
   ]
  },
  {
   "cell_type": "code",
   "execution_count": 230,
   "metadata": {},
   "outputs": [
    {
     "name": "stdout",
     "output_type": "stream",
     "text": [
      "Accuracy:  84.0 %\n"
     ]
    }
   ],
   "source": [
    "# Decision Tree Classification (DTC) Model Training\n",
    "dtc = DecisionTreeClassifier(criterion='gini', random_state=10)\n",
    "dtc.fit(X_train, Y_train)\n",
    "y_pred3 = dtc.predict(X_test)\n",
    "print(\"Accuracy: \", accuracy_score(Y_test, y_pred3)*100, \"%\")\n"
   ]
  },
  {
   "cell_type": "code",
   "execution_count": 231,
   "metadata": {},
   "outputs": [
    {
     "name": "stdout",
     "output_type": "stream",
     "text": [
      "              precision    recall  f1-score   support\n",
      "\n",
      "           0       1.00      1.00      1.00         4\n",
      "           1       0.83      0.71      0.77         7\n",
      "           2       0.67      1.00      0.80         2\n",
      "           3       1.00      0.50      0.67         8\n",
      "           4       1.00      1.00      1.00         4\n",
      "           5       1.00      1.00      1.00         5\n",
      "           6       0.80      0.80      0.80         5\n",
      "           7       0.67      0.80      0.73         5\n",
      "           8       1.00      1.00      1.00         5\n",
      "           9       0.62      1.00      0.77         5\n",
      "\n",
      "    accuracy                           0.84        50\n",
      "   macro avg       0.86      0.88      0.85        50\n",
      "weighted avg       0.87      0.84      0.84        50\n",
      "\n"
     ]
    }
   ],
   "source": [
    "print(classification_report(y_pred3, Y_test))\n"
   ]
  },
  {
   "attachments": {},
   "cell_type": "markdown",
   "metadata": {},
   "source": [
    "### Cross-Validation of DTC"
   ]
  },
  {
   "cell_type": "code",
   "execution_count": 232,
   "metadata": {},
   "outputs": [
    {
     "name": "stdout",
     "output_type": "stream",
     "text": [
      "Cross-Validation Accuracy:  78.0\n"
     ]
    }
   ],
   "source": [
    "result = cross_val_score(dtc, X_train, Y_train, cv=10)\n",
    "dtc_CV_accuracy = result.mean()*100\n",
    "print(\"Cross-Validation Accuracy: \", dtc_CV_accuracy)\n"
   ]
  },
  {
   "cell_type": "code",
   "execution_count": 233,
   "metadata": {},
   "outputs": [
    {
     "data": {
      "image/png": "[encoded data removed]",
      "text/plain": [
       "<Figure size 432x288 with 1 Axes>"
      ]
     },
     "metadata": {
      "needs_background": "light"
     },
     "output_type": "display_data"
    }
   ],
   "source": [
    "features = data.columns\n",
    "importance = dtc.feature_importances_\n",
    "indices = np.argsort(importance)\n",
    "\n",
    "plt.title('Feature Importance of DTC')\n",
    "plt.barh(range(len(indices)), importance[indices], color='g', align='center')\n",
    "plt.yticks(range(len(indices)), [features[i] for i in indices])\n",
    "plt.xlabel('Relative Importance')\n",
    "plt.show()\n"
   ]
  },
  {
   "cell_type": "code",
   "execution_count": 234,
   "metadata": {},
   "outputs": [],
   "source": [
    "#XGB model training\n",
    "\n",
    "dtrain = xgb.DMatrix(X_train, label=Y_train)\n",
    "dtest = xgb.DMatrix(X_test, label=Y_test)\n"
   ]
  },
  {
   "cell_type": "code",
   "execution_count": 235,
   "metadata": {},
   "outputs": [
    {
     "data": {
      "text/plain": [
       "(50, 10)"
      ]
     },
     "execution_count": 235,
     "metadata": {},
     "output_type": "execute_result"
    }
   ],
   "source": [
    "param = {\n",
    "    'max_depth': 10,  # the maximum depth of each tree\n",
    "    'eta': 0.30,  # the training step for each iteration\n",
    "    'objective': 'multi:softprob',  # error evaluation for multiclass training\n",
    "    'num_class': len(data['University'].unique())}  # the number of classes that exist in this datset\n",
    "num_round = 550  # the number of training iterations\n",
    "\n",
    "\n",
    "bst = xgb.train(param, dtrain, num_round)\n",
    "y_pred4 = bst.predict(dtest)\n",
    "y_pred4.shape"
   ]
  },
  {
   "cell_type": "code",
   "execution_count": 236,
   "metadata": {},
   "outputs": [
    {
     "name": "stdout",
     "output_type": "stream",
     "text": [
      "Accuracy:  84.0 %\n"
     ]
    }
   ],
   "source": [
    "best_preds = np.asarray([np.argmax(line) for line in y_pred4])\n",
    "# print(np.mean(best_preds != Y_test.squeeze()))\n",
    "# print(confusion_matrix(Y_test, best_preds))\n",
    "# print(classification_report(Y_test, best_preds))\n",
    "print(\"Accuracy: \", accuracy_score(Y_test, best_preds)*100, \"%\")\n"
   ]
  },
  {
   "cell_type": "code",
   "execution_count": 237,
   "metadata": {},
   "outputs": [
    {
     "name": "stdout",
     "output_type": "stream",
     "text": [
      "              precision    recall  f1-score   support\n",
      "\n",
      "           0       1.00      1.00      1.00         4\n",
      "           1       0.50      0.60      0.55         5\n",
      "           2       0.67      0.50      0.57         4\n",
      "           3       1.00      0.67      0.80         6\n",
      "           4       1.00      1.00      1.00         4\n",
      "           5       1.00      1.00      1.00         5\n",
      "           6       0.80      0.80      0.80         5\n",
      "           7       0.83      0.83      0.83         6\n",
      "           8       1.00      1.00      1.00         5\n",
      "           9       0.75      1.00      0.86         6\n",
      "\n",
      "    accuracy                           0.84        50\n",
      "   macro avg       0.86      0.84      0.84        50\n",
      "weighted avg       0.85      0.84      0.84        50\n",
      "\n"
     ]
    }
   ],
   "source": [
    "print(classification_report(best_preds, Y_test.squeeze()))\n"
   ]
  },
  {
   "cell_type": "code",
   "execution_count": 238,
   "metadata": {},
   "outputs": [],
   "source": [
    "# Training bagging ensemble model\n",
    "bclf = BaggingClassifier(base_estimator=DecisionTreeClassifier(), n_estimators=100, max_samples=0.8, oob_score=True,\n",
    "                         random_state=0,).fit(X_train, Y_train)\n"
   ]
  },
  {
   "cell_type": "code",
   "execution_count": 239,
   "metadata": {},
   "outputs": [
    {
     "data": {
      "text/plain": [
       "0.8133333333333334"
      ]
     },
     "execution_count": 239,
     "metadata": {},
     "output_type": "execute_result"
    }
   ],
   "source": [
    "bclf.oob_score_"
   ]
  },
  {
   "cell_type": "code",
   "execution_count": 240,
   "metadata": {},
   "outputs": [
    {
     "name": "stdout",
     "output_type": "stream",
     "text": [
      "Accuracy:  88.0 %\n"
     ]
    }
   ],
   "source": [
    "y_pred5 = bclf.predict(X_test)\n",
    "print(\"Accuracy: \", accuracy_score(Y_test, y_pred5)*100, \"%\")\n"
   ]
  },
  {
   "cell_type": "code",
   "execution_count": 241,
   "metadata": {},
   "outputs": [
    {
     "name": "stdout",
     "output_type": "stream",
     "text": [
      "              precision    recall  f1-score   support\n",
      "\n",
      "           0       1.00      1.00      1.00         4\n",
      "           1       0.83      0.71      0.77         7\n",
      "           2       0.33      1.00      0.50         1\n",
      "           3       1.00      0.80      0.89         5\n",
      "           4       1.00      1.00      1.00         4\n",
      "           5       1.00      1.00      1.00         5\n",
      "           6       0.80      0.67      0.73         6\n",
      "           7       0.83      0.83      0.83         6\n",
      "           8       1.00      1.00      1.00         5\n",
      "           9       0.88      1.00      0.93         7\n",
      "\n",
      "    accuracy                           0.88        50\n",
      "   macro avg       0.87      0.90      0.87        50\n",
      "weighted avg       0.90      0.88      0.88        50\n",
      "\n"
     ]
    }
   ],
   "source": [
    "print(classification_report(y_pred5, Y_test))\n"
   ]
  },
  {
   "attachments": {},
   "cell_type": "markdown",
   "metadata": {},
   "source": [
    "### Cross-Validation of BCLF"
   ]
  },
  {
   "cell_type": "code",
   "execution_count": 242,
   "metadata": {},
   "outputs": [
    {
     "name": "stdout",
     "output_type": "stream",
     "text": [
      "Cross-Validation Accuracy:  81.3568376068376\n"
     ]
    }
   ],
   "source": [
    "result = cross_val_score(bclf, X_train, Y_train, cv=12)\n",
    "bclf_CV_accuracy = result.mean()*100\n",
    "print(\"Cross-Validation Accuracy: \", bclf_CV_accuracy)\n"
   ]
  },
  {
   "cell_type": "code",
   "execution_count": 243,
   "metadata": {},
   "outputs": [],
   "source": [
    "adab = AdaBoostClassifier(base_estimator=DecisionTreeClassifier(),n_estimators=100, random_state=0).fit(X_train, Y_train)"
   ]
  },
  {
   "cell_type": "code",
   "execution_count": 244,
   "metadata": {},
   "outputs": [
    {
     "name": "stdout",
     "output_type": "stream",
     "text": [
      "Accuracy:  86.0 %\n"
     ]
    }
   ],
   "source": [
    "y_pred6 = adab.predict(X_test)\n",
    "print(\"Accuracy: \", accuracy_score(Y_test, y_pred6)*100, \"%\")\n"
   ]
  },
  {
   "cell_type": "code",
   "execution_count": 245,
   "metadata": {},
   "outputs": [
    {
     "name": "stdout",
     "output_type": "stream",
     "text": [
      "              precision    recall  f1-score   support\n",
      "\n",
      "           0       1.00      1.00      1.00         4\n",
      "           1       0.83      0.71      0.77         7\n",
      "           2       0.67      1.00      0.80         2\n",
      "           3       1.00      0.57      0.73         7\n",
      "           4       1.00      1.00      1.00         4\n",
      "           5       1.00      1.00      1.00         5\n",
      "           6       0.80      0.80      0.80         5\n",
      "           7       0.67      0.80      0.73         5\n",
      "           8       1.00      1.00      1.00         5\n",
      "           9       0.75      1.00      0.86         6\n",
      "\n",
      "    accuracy                           0.86        50\n",
      "   macro avg       0.87      0.89      0.87        50\n",
      "weighted avg       0.88      0.86      0.86        50\n",
      "\n"
     ]
    }
   ],
   "source": [
    "print(classification_report(y_pred6, Y_test))\n"
   ]
  },
  {
   "attachments": {},
   "cell_type": "markdown",
   "metadata": {},
   "source": [
    "### Cross-Validation of ADAB"
   ]
  },
  {
   "cell_type": "code",
   "execution_count": 246,
   "metadata": {},
   "outputs": [
    {
     "name": "stdout",
     "output_type": "stream",
     "text": [
      "Cross-Validation Accuracy:  83.97435897435899\n"
     ]
    }
   ],
   "source": [
    "result = cross_val_score(adab, X_train, Y_train, cv=12)\n",
    "adab_CV_accuracy = result.mean()*100\n",
    "print(\"Cross-Validation Accuracy: \", adab_CV_accuracy)\n"
   ]
  },
  {
   "cell_type": "code",
   "execution_count": 247,
   "metadata": {},
   "outputs": [
    {
     "name": "stderr",
     "output_type": "stream",
     "text": [
      "c:\\Users\\LENOVO\\AppData\\Local\\Programs\\Python\\Python310\\lib\\site-packages\\sklearn\\tree\\_classes.py:631: RuntimeWarning: invalid value encountered in true_divide\n",
      "  return self.tree_.compute_feature_importances()\n"
     ]
    },
    {
     "data": {
      "image/png": "[encoded data removed]",
      "text/plain": [
       "<Figure size 432x288 with 1 Axes>"
      ]
     },
     "metadata": {
      "needs_background": "light"
     },
     "output_type": "display_data"
    }
   ],
   "source": [
    "features = data.columns\n",
    "importance = adab.feature_importances_\n",
    "indices = np.argsort(importance)\n",
    "\n",
    "plt.title('Feature Importances')\n",
    "plt.barh(range(len(indices)), importance[indices], color='r', align='center')\n",
    "plt.yticks(range(len(indices)), [features[i] for i in indices])\n",
    "plt.xlabel('Relative Importance')\n",
    "plt.show()\n"
   ]
  },
  {
   "cell_type": "code",
   "execution_count": null,
   "metadata": {},
   "outputs": [],
   "source": []
  }
 ],
 "metadata": {
  "kernelspec": {
   "display_name": "Python 3",
   "language": "python",
   "name": "python3"
  },
  "language_info": {
   "codemirror_mode": {
    "name": "ipython",
    "version": 3
   },
   "file_extension": ".py",
   "mimetype": "text/x-python",
   "name": "python",
   "nbconvert_exporter": "python",
   "pygments_lexer": "ipython3",
   "version": "3.10.7"
  },
  "orig_nbformat": 4,
  "vscode": {
   "interpreter": {
    "hash": "f2ccb58c476f33ba3e3aee7ac07234ef6b8217ef24ad64d2a7d4fed1a57c1cd2"
   }
  }
 },
 "nbformat": 4,
 "nbformat_minor": 2
}
