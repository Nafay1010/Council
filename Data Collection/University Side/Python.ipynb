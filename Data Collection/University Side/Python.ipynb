{
 "cells": [
  {
   "cell_type": "code",
   "execution_count": 2,
   "metadata": {},
   "outputs": [],
   "source": [
    "import json\n",
    "import pandas as pd\n",
    "import time\n",
    "from faker import Factory, Faker  # Create fake data\n",
    "import numpy as np\n",
    "from petl import fromjson, look\n",
    "import pymongo\n",
    "import collections\n",
    "# from pandas.io.json import pandas.json_normalize\n"
   ]
  },
  {
   "cell_type": "code",
   "execution_count": 3,
   "metadata": {},
   "outputs": [],
   "source": [
    "loc = 'C:\\\\Users\\\\LENOVO\\\\Downloads\\\\FAST PWR\\\\VSCODE\\\\FYP\\\\Data Collection\\\\University Side'\n"
   ]
  },
  {
   "cell_type": "markdown",
   "metadata": {},
   "source": [
    "## Applying Operations on ./Test.json"
   ]
  },
  {
   "cell_type": "markdown",
   "metadata": {},
   "source": [
    "Converting String array into numpy array"
   ]
  },
  {
   "cell_type": "code",
   "execution_count": 9,
   "metadata": {},
   "outputs": [
    {
     "name": "stdout",
     "output_type": "stream",
     "text": [
      "<class 'list'>\n"
     ]
    }
   ],
   "source": [
    "with open('./FAST.json') as f:\n",
    "    data = f.read()\n",
    "\n",
    "data = json.loads(data)\n",
    "print(type(data))\n"
   ]
  },
  {
   "cell_type": "code",
   "execution_count": 10,
   "metadata": {},
   "outputs": [
    {
     "name": "stdout",
     "output_type": "stream",
     "text": [
      "[{'University': 'FAST NUCES', 'Campus': 'PWR', 'Exact Location': 'Jamrud Road 160 Industrial Estate Road, Phase 1 Hayatabad, Peshawar, Khyber Pakhtunkhwa, Pakistan', 'Scholarship OR Loan': 'Yes', 'Hostel Accomodation': 'Yes', 'BS in Engrr Programs/Total Fee': [{'BSSE': 1145000}, {'BSEE': 1170500}], 'BS Admission Criteria (Engrr Programs)': [60, 60, None, None], 'BS in Science Programs/Total Fee': [{'BSAI': 1162000}, {'BSCS': 1145000}, {'BSRB': 1196000}], 'BS Admission Criteria (Sciences Programs)': [60, 50, None, None], 'BS in Arts-Commerce/Total Fee': [None], 'BS Admission Critera (Arts/Commerce)': [None], 'MS in Sciences Programs/Total Fee': [{'MSCS': 255000}, {'MSDS': 255000}], 'MS Admission Criteria (Sciences Programs)': [60, 50], 'MS in Engr Programs/Total Fee': [{'MSEE': 255000}], 'MS Admission Criteria (Engr Programs)': [60, 50], 'PHD in Sciences/Total Fee': [{'PHDCS': 153000}], 'PHD in Sciences Admission Criteria': [70, 60], 'PHD in Engrr/Total Fee': [{'PHDEE': 153000}], 'PHD in Engrr Admission Criteria': [70, 60]}, {'University': 'FAST NUCES', 'Campus': 'Islamabad', 'Exact Location': ' A.K Brohi Road, H 11/4, Islamabad', 'Scholarship OR Loan': 'Yes', 'Hostel Accomodation': 'No', 'BS in Engrr Programs/Total Fee': [{'BSSE': 1145000}, {'BSEE': 1170500}], 'BS Admission Criteria (Engrr Programs)': [60, 60, None, None], 'BS in Science Programs/Total Fee': [{'BSAI': 1162000}, {'BSCS': 1145000}, {'BSRB': 1196000}, {'BSAF': 1153500}, {'BSBA': 1145000}, {'BSCY': 1145000}, {'BSDS': 1162000}, {'BSFT': 1179000}], 'BS Admission Criteria (Sciences Programs)': [60, 50, None, None], 'BS in Arts-Commerce/Total Fee': [{'BBA': 1145000}], 'BS Admission Critera (Arts/Commerce)': [60, 60, None, None], 'MS in Sciences Programs/Total Fee': [{'MSCS': 255000}, {'MSDS': 255000}], 'MS Admission Criteria (Sciences Programs)': [60, 50], 'MS in Engr Programs/Total Fee': [{'MSEE': 255000}], 'MS Admission Criteria (Engr Programs)': [60, 50], 'PHD in Sciences/Total Fee': [{'PHDCS': 153000}], 'PHD in Sciences Admission Criteria': [70, 60], 'PHD in Engrr/Total Fee': [{'PHDEE': 153000}], 'PHD in Engrr Admission Criteria': [70, 60]}, {'University': 'FAST NUCES', 'Campus': 'Lahore', 'Exact Location': 'Block-B, Faisal Town, Lahore.', 'Scholarship OR Loan': 'Yes', 'Hostel Accomodation': 'No', 'BS in Engrr Programs/Total Fee': [{'BSSE': 1145000}, {'BSEE': 1170500}, {'BSCE': 1196000}], 'BS Admission Criteria (Engrr Programs)': [60, 60, None, None], 'BS in Science Programs/Total Fee': [{'BSCS': 1145000}, {'BSRB': 1196000}, {'BSAF': 1153500}, {'BSBA': 1145000}, {'BSDS': 1162000}], 'BS Admission Criteria (Sciences Programs)': [60, 50, None, None], 'BS in Arts-Commerce/Total Fee': [{'BBA': 1145000}], 'BS Admission Critera (Arts/Commerce)': [60, 60, None, None], 'MS in Sciences Programs/Total Fee': [{'MSCS': 255000}, {'MSDS': 255000}], 'MS Admission Criteria (Sciences Programs)': [60, 50], 'MS in Engr Programs/Total Fee': [{'MSEE': 255000}], 'MS Admission Criteria (Engr Programs)': [60, 50], 'PHD in Sciences/Total Fee': [{'PHDCS': 153000}], 'PHD in Sciences Admission Criteria': [70, 60], 'PHD in Engrr/Total Fee': [{'PHDEE': 153000}], 'PHD in Engrr Admission Criteria': [70, 60]}, {'University': 'FAST NUCES', 'Campus': 'Karachi', 'Exact Location': 'St-4 Sector 17-D On National Highway Karachi, Pakistan.', 'Scholarship OR Loan': 'Yes', 'Hostel Accomodation': 'No', 'BS in Engrr Programs/Total Fee': [{'BSSE': 1145000}, {'BSEE': 1170500}], 'BS Admission Criteria (Engrr Programs)': [60, 60, None, None], 'BS in Science Programs/Total Fee': [{'BSAI': 1162000}, {'BSCS': 1145000}, {'BSRB': 1196000}, {'BSBA': 1145000}, {'BSCY': 1145000}], 'BS Admission Criteria (Sciences Programs)': [60, 50, None, None], 'BS in Arts-Commerce/Total Fee': [None], 'BS Admission Critera (Arts/Commerce)': [None], 'MS in Sciences Programs/Total Fee': [{'MSCS': 255000}, {'MSDS': 255000}], 'MS Admission Criteria (Sciences Programs)': [60, 50], 'MS in Engr Programs/Total Fee': [{'MSEE': 255000}], 'MS Admission Criteria (Engr Programs)': [60, 50], 'PHD in Sciences/Total Fee': [{'PHDCS': 153000}], 'PHD in Sciences Admission Criteria': [70, 60], 'PHD in Engrr/Total Fee': [{'PHDEE': 153000}], 'PHD in Engrr Admission Criteria': [70, 60]}, {'University': 'FAST NUCES', 'Campus': 'Chiniot-Faisalabad', 'Exact Location': 'FAST-NU, FAST Square, 9 Km from Faisalabad Motorway Interchange towards Chiniot', 'Scholarship OR Loan': 'Yes', 'Hostel Accomodation': 'Yes', 'BS in Engrr Programs/Total Fee': [{'BSSE': 1145000}, {'BSEE': 1170500}], 'BS Admission Criteria (Engrr Programs)': [60, 60, None, None], 'BS in Science Programs/Total Fee': [{'BSAI': 1162000}, {'BSCS': 1145000}, {'BSRB': 1196000}, {'BSBA': 1145000}], 'BS Admission Criteria (Sciences Programs)': [60, 50, None, None], 'BS in Arts-Commerce/Total Fee': [{'BBA': 1145000}], 'BS Admission Critera (Arts/Commerce)': [60, 60, None, None], 'MS in Sciences Programs/Total Fee': [{'MSCS': 255000}, {'MSDS': 255000}], 'MS Admission Criteria (Sciences Programs)': [60, 50], 'MS in Engr Programs/Total Fee': [{'MSEE': 255000}], 'MS Admission Criteria (Engr Programs)': [60, 50], 'PHD in Sciences/Total Fee': [{'PHDCS': 153000}], 'PHD in Sciences Admission Criteria': [70, 60], 'PHD in Engrr/Total Fee': [{'PHDEE': 153000}], 'PHD in Engrr Admission Criteria': [70, 60]}]\n"
     ]
    }
   ],
   "source": [
    "print(data)\n"
   ]
  },
  {
   "cell_type": "markdown",
   "metadata": {},
   "source": [
    "### Testing json "
   ]
  },
  {
   "cell_type": "code",
   "execution_count": 11,
   "metadata": {},
   "outputs": [],
   "source": [
    "d = data[0]['BS Admission Criteria (Engrr Programs)']\n"
   ]
  },
  {
   "cell_type": "code",
   "execution_count": 12,
   "metadata": {},
   "outputs": [
    {
     "name": "stdout",
     "output_type": "stream",
     "text": [
      "[60, 60, None, None]\n"
     ]
    }
   ],
   "source": [
    "print(d)"
   ]
  },
  {
   "cell_type": "code",
   "execution_count": 13,
   "metadata": {},
   "outputs": [
    {
     "data": {
      "text/plain": [
       "array([60, 60, None, None], dtype=object)"
      ]
     },
     "execution_count": 13,
     "metadata": {},
     "output_type": "execute_result"
    }
   ],
   "source": [
    "nparray = np.array(d)\n",
    "nparray\n"
   ]
  },
  {
   "cell_type": "code",
   "execution_count": 14,
   "metadata": {},
   "outputs": [
    {
     "name": "stdout",
     "output_type": "stream",
     "text": [
      "<class 'list'>\n"
     ]
    }
   ],
   "source": [
    "print(type(d))\n"
   ]
  },
  {
   "cell_type": "markdown",
   "metadata": {},
   "source": [
    "Converting String into Dictionary"
   ]
  },
  {
   "cell_type": "code",
   "execution_count": 16,
   "metadata": {},
   "outputs": [
    {
     "name": "stdout",
     "output_type": "stream",
     "text": [
      "<class 'dict'>\n"
     ]
    }
   ],
   "source": [
    "with open('./FAST.json') as f:\n",
    "    data = json.loads(f.read())\n",
    "\n",
    "print(type(data[0]))"
   ]
  },
  {
   "cell_type": "code",
   "execution_count": 17,
   "metadata": {},
   "outputs": [
    {
     "data": {
      "text/html": [
       "<div>\n",
       "<style scoped>\n",
       "    .dataframe tbody tr th:only-of-type {\n",
       "        vertical-align: middle;\n",
       "    }\n",
       "\n",
       "    .dataframe tbody tr th {\n",
       "        vertical-align: top;\n",
       "    }\n",
       "\n",
       "    .dataframe thead th {\n",
       "        text-align: right;\n",
       "    }\n",
       "</style>\n",
       "<table border=\"1\" class=\"dataframe\">\n",
       "  <thead>\n",
       "    <tr style=\"text-align: right;\">\n",
       "      <th></th>\n",
       "      <th>University</th>\n",
       "      <th>Campus</th>\n",
       "      <th>Exact Location</th>\n",
       "      <th>Scholarship OR Loan</th>\n",
       "      <th>Hostel Accomodation</th>\n",
       "      <th>BS in Engrr Programs/Total Fee</th>\n",
       "      <th>BS Admission Criteria (Engrr Programs)</th>\n",
       "      <th>BS in Science Programs/Total Fee</th>\n",
       "      <th>BS Admission Criteria (Sciences Programs)</th>\n",
       "      <th>BS in Arts-Commerce/Total Fee</th>\n",
       "      <th>BS Admission Critera (Arts/Commerce)</th>\n",
       "      <th>MS in Sciences Programs/Total Fee</th>\n",
       "      <th>MS Admission Criteria (Sciences Programs)</th>\n",
       "      <th>MS in Engr Programs/Total Fee</th>\n",
       "      <th>MS Admission Criteria (Engr Programs)</th>\n",
       "      <th>PHD in Sciences/Total Fee</th>\n",
       "      <th>PHD in Sciences Admission Criteria</th>\n",
       "      <th>PHD in Engrr/Total Fee</th>\n",
       "      <th>PHD in Engrr Admission Criteria</th>\n",
       "    </tr>\n",
       "  </thead>\n",
       "  <tbody>\n",
       "    <tr>\n",
       "      <th>0</th>\n",
       "      <td>FAST NUCES</td>\n",
       "      <td>PWR</td>\n",
       "      <td>Jamrud Road 160 Industrial Estate Road, Phase ...</td>\n",
       "      <td>Yes</td>\n",
       "      <td>Yes</td>\n",
       "      <td>[{'BSSE': 1145000}, {'BSEE': 1170500}]</td>\n",
       "      <td>[60, 60, None, None]</td>\n",
       "      <td>[{'BSAI': 1162000}, {'BSCS': 1145000}, {'BSRB'...</td>\n",
       "      <td>[60, 50, None, None]</td>\n",
       "      <td>[None]</td>\n",
       "      <td>[None]</td>\n",
       "      <td>[{'MSCS': 255000}, {'MSDS': 255000}]</td>\n",
       "      <td>[60, 50]</td>\n",
       "      <td>[{'MSEE': 255000}]</td>\n",
       "      <td>[60, 50]</td>\n",
       "      <td>[{'PHDCS': 153000}]</td>\n",
       "      <td>[70, 60]</td>\n",
       "      <td>[{'PHDEE': 153000}]</td>\n",
       "      <td>[70, 60]</td>\n",
       "    </tr>\n",
       "    <tr>\n",
       "      <th>1</th>\n",
       "      <td>FAST NUCES</td>\n",
       "      <td>Islamabad</td>\n",
       "      <td>A.K Brohi Road, H 11/4, Islamabad</td>\n",
       "      <td>Yes</td>\n",
       "      <td>No</td>\n",
       "      <td>[{'BSSE': 1145000}, {'BSEE': 1170500}]</td>\n",
       "      <td>[60, 60, None, None]</td>\n",
       "      <td>[{'BSAI': 1162000}, {'BSCS': 1145000}, {'BSRB'...</td>\n",
       "      <td>[60, 50, None, None]</td>\n",
       "      <td>[{'BBA': 1145000}]</td>\n",
       "      <td>[60, 60, None, None]</td>\n",
       "      <td>[{'MSCS': 255000}, {'MSDS': 255000}]</td>\n",
       "      <td>[60, 50]</td>\n",
       "      <td>[{'MSEE': 255000}]</td>\n",
       "      <td>[60, 50]</td>\n",
       "      <td>[{'PHDCS': 153000}]</td>\n",
       "      <td>[70, 60]</td>\n",
       "      <td>[{'PHDEE': 153000}]</td>\n",
       "      <td>[70, 60]</td>\n",
       "    </tr>\n",
       "    <tr>\n",
       "      <th>2</th>\n",
       "      <td>FAST NUCES</td>\n",
       "      <td>Lahore</td>\n",
       "      <td>Block-B, Faisal Town, Lahore.</td>\n",
       "      <td>Yes</td>\n",
       "      <td>No</td>\n",
       "      <td>[{'BSSE': 1145000}, {'BSEE': 1170500}, {'BSCE'...</td>\n",
       "      <td>[60, 60, None, None]</td>\n",
       "      <td>[{'BSCS': 1145000}, {'BSRB': 1196000}, {'BSAF'...</td>\n",
       "      <td>[60, 50, None, None]</td>\n",
       "      <td>[{'BBA': 1145000}]</td>\n",
       "      <td>[60, 60, None, None]</td>\n",
       "      <td>[{'MSCS': 255000}, {'MSDS': 255000}]</td>\n",
       "      <td>[60, 50]</td>\n",
       "      <td>[{'MSEE': 255000}]</td>\n",
       "      <td>[60, 50]</td>\n",
       "      <td>[{'PHDCS': 153000}]</td>\n",
       "      <td>[70, 60]</td>\n",
       "      <td>[{'PHDEE': 153000}]</td>\n",
       "      <td>[70, 60]</td>\n",
       "    </tr>\n",
       "    <tr>\n",
       "      <th>3</th>\n",
       "      <td>FAST NUCES</td>\n",
       "      <td>Karachi</td>\n",
       "      <td>St-4 Sector 17-D On National Highway Karachi, ...</td>\n",
       "      <td>Yes</td>\n",
       "      <td>No</td>\n",
       "      <td>[{'BSSE': 1145000}, {'BSEE': 1170500}]</td>\n",
       "      <td>[60, 60, None, None]</td>\n",
       "      <td>[{'BSAI': 1162000}, {'BSCS': 1145000}, {'BSRB'...</td>\n",
       "      <td>[60, 50, None, None]</td>\n",
       "      <td>[None]</td>\n",
       "      <td>[None]</td>\n",
       "      <td>[{'MSCS': 255000}, {'MSDS': 255000}]</td>\n",
       "      <td>[60, 50]</td>\n",
       "      <td>[{'MSEE': 255000}]</td>\n",
       "      <td>[60, 50]</td>\n",
       "      <td>[{'PHDCS': 153000}]</td>\n",
       "      <td>[70, 60]</td>\n",
       "      <td>[{'PHDEE': 153000}]</td>\n",
       "      <td>[70, 60]</td>\n",
       "    </tr>\n",
       "    <tr>\n",
       "      <th>4</th>\n",
       "      <td>FAST NUCES</td>\n",
       "      <td>Chiniot-Faisalabad</td>\n",
       "      <td>FAST-NU, FAST Square, 9 Km from Faisalabad Mot...</td>\n",
       "      <td>Yes</td>\n",
       "      <td>Yes</td>\n",
       "      <td>[{'BSSE': 1145000}, {'BSEE': 1170500}]</td>\n",
       "      <td>[60, 60, None, None]</td>\n",
       "      <td>[{'BSAI': 1162000}, {'BSCS': 1145000}, {'BSRB'...</td>\n",
       "      <td>[60, 50, None, None]</td>\n",
       "      <td>[{'BBA': 1145000}]</td>\n",
       "      <td>[60, 60, None, None]</td>\n",
       "      <td>[{'MSCS': 255000}, {'MSDS': 255000}]</td>\n",
       "      <td>[60, 50]</td>\n",
       "      <td>[{'MSEE': 255000}]</td>\n",
       "      <td>[60, 50]</td>\n",
       "      <td>[{'PHDCS': 153000}]</td>\n",
       "      <td>[70, 60]</td>\n",
       "      <td>[{'PHDEE': 153000}]</td>\n",
       "      <td>[70, 60]</td>\n",
       "    </tr>\n",
       "  </tbody>\n",
       "</table>\n",
       "</div>"
      ],
      "text/plain": [
       "   University              Campus  \\\n",
       "0  FAST NUCES                 PWR   \n",
       "1  FAST NUCES           Islamabad   \n",
       "2  FAST NUCES              Lahore   \n",
       "3  FAST NUCES             Karachi   \n",
       "4  FAST NUCES  Chiniot-Faisalabad   \n",
       "\n",
       "                                      Exact Location Scholarship OR Loan  \\\n",
       "0  Jamrud Road 160 Industrial Estate Road, Phase ...                 Yes   \n",
       "1                  A.K Brohi Road, H 11/4, Islamabad                 Yes   \n",
       "2                      Block-B, Faisal Town, Lahore.                 Yes   \n",
       "3  St-4 Sector 17-D On National Highway Karachi, ...                 Yes   \n",
       "4  FAST-NU, FAST Square, 9 Km from Faisalabad Mot...                 Yes   \n",
       "\n",
       "  Hostel Accomodation                     BS in Engrr Programs/Total Fee  \\\n",
       "0                 Yes             [{'BSSE': 1145000}, {'BSEE': 1170500}]   \n",
       "1                  No             [{'BSSE': 1145000}, {'BSEE': 1170500}]   \n",
       "2                  No  [{'BSSE': 1145000}, {'BSEE': 1170500}, {'BSCE'...   \n",
       "3                  No             [{'BSSE': 1145000}, {'BSEE': 1170500}]   \n",
       "4                 Yes             [{'BSSE': 1145000}, {'BSEE': 1170500}]   \n",
       "\n",
       "  BS Admission Criteria (Engrr Programs)  \\\n",
       "0                   [60, 60, None, None]   \n",
       "1                   [60, 60, None, None]   \n",
       "2                   [60, 60, None, None]   \n",
       "3                   [60, 60, None, None]   \n",
       "4                   [60, 60, None, None]   \n",
       "\n",
       "                    BS in Science Programs/Total Fee  \\\n",
       "0  [{'BSAI': 1162000}, {'BSCS': 1145000}, {'BSRB'...   \n",
       "1  [{'BSAI': 1162000}, {'BSCS': 1145000}, {'BSRB'...   \n",
       "2  [{'BSCS': 1145000}, {'BSRB': 1196000}, {'BSAF'...   \n",
       "3  [{'BSAI': 1162000}, {'BSCS': 1145000}, {'BSRB'...   \n",
       "4  [{'BSAI': 1162000}, {'BSCS': 1145000}, {'BSRB'...   \n",
       "\n",
       "  BS Admission Criteria (Sciences Programs) BS in Arts-Commerce/Total Fee  \\\n",
       "0                      [60, 50, None, None]                        [None]   \n",
       "1                      [60, 50, None, None]            [{'BBA': 1145000}]   \n",
       "2                      [60, 50, None, None]            [{'BBA': 1145000}]   \n",
       "3                      [60, 50, None, None]                        [None]   \n",
       "4                      [60, 50, None, None]            [{'BBA': 1145000}]   \n",
       "\n",
       "  BS Admission Critera (Arts/Commerce)     MS in Sciences Programs/Total Fee  \\\n",
       "0                               [None]  [{'MSCS': 255000}, {'MSDS': 255000}]   \n",
       "1                 [60, 60, None, None]  [{'MSCS': 255000}, {'MSDS': 255000}]   \n",
       "2                 [60, 60, None, None]  [{'MSCS': 255000}, {'MSDS': 255000}]   \n",
       "3                               [None]  [{'MSCS': 255000}, {'MSDS': 255000}]   \n",
       "4                 [60, 60, None, None]  [{'MSCS': 255000}, {'MSDS': 255000}]   \n",
       "\n",
       "  MS Admission Criteria (Sciences Programs) MS in Engr Programs/Total Fee  \\\n",
       "0                                  [60, 50]            [{'MSEE': 255000}]   \n",
       "1                                  [60, 50]            [{'MSEE': 255000}]   \n",
       "2                                  [60, 50]            [{'MSEE': 255000}]   \n",
       "3                                  [60, 50]            [{'MSEE': 255000}]   \n",
       "4                                  [60, 50]            [{'MSEE': 255000}]   \n",
       "\n",
       "  MS Admission Criteria (Engr Programs) PHD in Sciences/Total Fee  \\\n",
       "0                              [60, 50]       [{'PHDCS': 153000}]   \n",
       "1                              [60, 50]       [{'PHDCS': 153000}]   \n",
       "2                              [60, 50]       [{'PHDCS': 153000}]   \n",
       "3                              [60, 50]       [{'PHDCS': 153000}]   \n",
       "4                              [60, 50]       [{'PHDCS': 153000}]   \n",
       "\n",
       "  PHD in Sciences Admission Criteria PHD in Engrr/Total Fee  \\\n",
       "0                           [70, 60]    [{'PHDEE': 153000}]   \n",
       "1                           [70, 60]    [{'PHDEE': 153000}]   \n",
       "2                           [70, 60]    [{'PHDEE': 153000}]   \n",
       "3                           [70, 60]    [{'PHDEE': 153000}]   \n",
       "4                           [70, 60]    [{'PHDEE': 153000}]   \n",
       "\n",
       "  PHD in Engrr Admission Criteria  \n",
       "0                        [70, 60]  \n",
       "1                        [70, 60]  \n",
       "2                        [70, 60]  \n",
       "3                        [70, 60]  \n",
       "4                        [70, 60]  "
      ]
     },
     "execution_count": 17,
     "metadata": {},
     "output_type": "execute_result"
    }
   ],
   "source": [
    "df = pd.DataFrame(data)\n",
    "df.head()"
   ]
  },
  {
   "cell_type": "code",
   "execution_count": 18,
   "metadata": {},
   "outputs": [],
   "source": [
    "df.to_csv(loc+'\\\\FAST.csv', index=False) #index --> False or True???"
   ]
  },
  {
   "cell_type": "code",
   "execution_count": 19,
   "metadata": {},
   "outputs": [
    {
     "data": {
      "text/html": [
       "<div>\n",
       "<style scoped>\n",
       "    .dataframe tbody tr th:only-of-type {\n",
       "        vertical-align: middle;\n",
       "    }\n",
       "\n",
       "    .dataframe tbody tr th {\n",
       "        vertical-align: top;\n",
       "    }\n",
       "\n",
       "    .dataframe thead th {\n",
       "        text-align: right;\n",
       "    }\n",
       "</style>\n",
       "<table border=\"1\" class=\"dataframe\">\n",
       "  <thead>\n",
       "    <tr style=\"text-align: right;\">\n",
       "      <th></th>\n",
       "      <th>University</th>\n",
       "      <th>Campus</th>\n",
       "      <th>Exact Location</th>\n",
       "      <th>Scholarship OR Loan</th>\n",
       "      <th>Hostel Accomodation</th>\n",
       "      <th>BS in Engrr Programs/Total Fee</th>\n",
       "      <th>BS Admission Criteria (Engrr Programs)</th>\n",
       "      <th>BS in Science Programs/Total Fee</th>\n",
       "      <th>BS Admission Criteria (Sciences Programs)</th>\n",
       "      <th>BS in Arts-Commerce/Total Fee</th>\n",
       "      <th>BS Admission Critera (Arts/Commerce)</th>\n",
       "      <th>MS in Sciences Programs/Total Fee</th>\n",
       "      <th>MS Admission Criteria (Sciences Programs)</th>\n",
       "      <th>MS in Engr Programs/Total Fee</th>\n",
       "      <th>MS Admission Criteria (Engr Programs)</th>\n",
       "      <th>PHD in Sciences/Total Fee</th>\n",
       "      <th>PHD in Sciences Admission Criteria</th>\n",
       "      <th>PHD in Engrr/Total Fee</th>\n",
       "      <th>PHD in Engrr Admission Criteria</th>\n",
       "    </tr>\n",
       "  </thead>\n",
       "  <tbody>\n",
       "    <tr>\n",
       "      <th>0</th>\n",
       "      <td>FAST NUCES</td>\n",
       "      <td>PWR</td>\n",
       "      <td>Jamrud Road 160 Industrial Estate Road, Phase ...</td>\n",
       "      <td>Yes</td>\n",
       "      <td>Yes</td>\n",
       "      <td>[{'BSSE': 1145000}, {'BSEE': 1170500}]</td>\n",
       "      <td>[60, 60, None, None]</td>\n",
       "      <td>[{'BSAI': 1162000}, {'BSCS': 1145000}, {'BSRB'...</td>\n",
       "      <td>[60, 50, None, None]</td>\n",
       "      <td>[None]</td>\n",
       "      <td>[None]</td>\n",
       "      <td>[{'MSCS': 255000}, {'MSDS': 255000}]</td>\n",
       "      <td>[60, 50]</td>\n",
       "      <td>[{'MSEE': 255000}]</td>\n",
       "      <td>[60, 50]</td>\n",
       "      <td>[{'PHDCS': 153000}]</td>\n",
       "      <td>[70, 60]</td>\n",
       "      <td>[{'PHDEE': 153000}]</td>\n",
       "      <td>[70, 60]</td>\n",
       "    </tr>\n",
       "    <tr>\n",
       "      <th>1</th>\n",
       "      <td>FAST NUCES</td>\n",
       "      <td>Islamabad</td>\n",
       "      <td>A.K Brohi Road, H 11/4, Islamabad</td>\n",
       "      <td>Yes</td>\n",
       "      <td>No</td>\n",
       "      <td>[{'BSSE': 1145000}, {'BSEE': 1170500}]</td>\n",
       "      <td>[60, 60, None, None]</td>\n",
       "      <td>[{'BSAI': 1162000}, {'BSCS': 1145000}, {'BSRB'...</td>\n",
       "      <td>[60, 50, None, None]</td>\n",
       "      <td>[{'BBA': 1145000}]</td>\n",
       "      <td>[60, 60, None, None]</td>\n",
       "      <td>[{'MSCS': 255000}, {'MSDS': 255000}]</td>\n",
       "      <td>[60, 50]</td>\n",
       "      <td>[{'MSEE': 255000}]</td>\n",
       "      <td>[60, 50]</td>\n",
       "      <td>[{'PHDCS': 153000}]</td>\n",
       "      <td>[70, 60]</td>\n",
       "      <td>[{'PHDEE': 153000}]</td>\n",
       "      <td>[70, 60]</td>\n",
       "    </tr>\n",
       "    <tr>\n",
       "      <th>2</th>\n",
       "      <td>FAST NUCES</td>\n",
       "      <td>Lahore</td>\n",
       "      <td>Block-B, Faisal Town, Lahore.</td>\n",
       "      <td>Yes</td>\n",
       "      <td>No</td>\n",
       "      <td>[{'BSSE': 1145000}, {'BSEE': 1170500}, {'BSCE'...</td>\n",
       "      <td>[60, 60, None, None]</td>\n",
       "      <td>[{'BSCS': 1145000}, {'BSRB': 1196000}, {'BSAF'...</td>\n",
       "      <td>[60, 50, None, None]</td>\n",
       "      <td>[{'BBA': 1145000}]</td>\n",
       "      <td>[60, 60, None, None]</td>\n",
       "      <td>[{'MSCS': 255000}, {'MSDS': 255000}]</td>\n",
       "      <td>[60, 50]</td>\n",
       "      <td>[{'MSEE': 255000}]</td>\n",
       "      <td>[60, 50]</td>\n",
       "      <td>[{'PHDCS': 153000}]</td>\n",
       "      <td>[70, 60]</td>\n",
       "      <td>[{'PHDEE': 153000}]</td>\n",
       "      <td>[70, 60]</td>\n",
       "    </tr>\n",
       "    <tr>\n",
       "      <th>3</th>\n",
       "      <td>FAST NUCES</td>\n",
       "      <td>Karachi</td>\n",
       "      <td>St-4 Sector 17-D On National Highway Karachi, ...</td>\n",
       "      <td>Yes</td>\n",
       "      <td>No</td>\n",
       "      <td>[{'BSSE': 1145000}, {'BSEE': 1170500}]</td>\n",
       "      <td>[60, 60, None, None]</td>\n",
       "      <td>[{'BSAI': 1162000}, {'BSCS': 1145000}, {'BSRB'...</td>\n",
       "      <td>[60, 50, None, None]</td>\n",
       "      <td>[None]</td>\n",
       "      <td>[None]</td>\n",
       "      <td>[{'MSCS': 255000}, {'MSDS': 255000}]</td>\n",
       "      <td>[60, 50]</td>\n",
       "      <td>[{'MSEE': 255000}]</td>\n",
       "      <td>[60, 50]</td>\n",
       "      <td>[{'PHDCS': 153000}]</td>\n",
       "      <td>[70, 60]</td>\n",
       "      <td>[{'PHDEE': 153000}]</td>\n",
       "      <td>[70, 60]</td>\n",
       "    </tr>\n",
       "    <tr>\n",
       "      <th>4</th>\n",
       "      <td>FAST NUCES</td>\n",
       "      <td>Chiniot-Faisalabad</td>\n",
       "      <td>FAST-NU, FAST Square, 9 Km from Faisalabad Mot...</td>\n",
       "      <td>Yes</td>\n",
       "      <td>Yes</td>\n",
       "      <td>[{'BSSE': 1145000}, {'BSEE': 1170500}]</td>\n",
       "      <td>[60, 60, None, None]</td>\n",
       "      <td>[{'BSAI': 1162000}, {'BSCS': 1145000}, {'BSRB'...</td>\n",
       "      <td>[60, 50, None, None]</td>\n",
       "      <td>[{'BBA': 1145000}]</td>\n",
       "      <td>[60, 60, None, None]</td>\n",
       "      <td>[{'MSCS': 255000}, {'MSDS': 255000}]</td>\n",
       "      <td>[60, 50]</td>\n",
       "      <td>[{'MSEE': 255000}]</td>\n",
       "      <td>[60, 50]</td>\n",
       "      <td>[{'PHDCS': 153000}]</td>\n",
       "      <td>[70, 60]</td>\n",
       "      <td>[{'PHDEE': 153000}]</td>\n",
       "      <td>[70, 60]</td>\n",
       "    </tr>\n",
       "  </tbody>\n",
       "</table>\n",
       "</div>"
      ],
      "text/plain": [
       "   University              Campus  \\\n",
       "0  FAST NUCES                 PWR   \n",
       "1  FAST NUCES           Islamabad   \n",
       "2  FAST NUCES              Lahore   \n",
       "3  FAST NUCES             Karachi   \n",
       "4  FAST NUCES  Chiniot-Faisalabad   \n",
       "\n",
       "                                      Exact Location Scholarship OR Loan  \\\n",
       "0  Jamrud Road 160 Industrial Estate Road, Phase ...                 Yes   \n",
       "1                  A.K Brohi Road, H 11/4, Islamabad                 Yes   \n",
       "2                      Block-B, Faisal Town, Lahore.                 Yes   \n",
       "3  St-4 Sector 17-D On National Highway Karachi, ...                 Yes   \n",
       "4  FAST-NU, FAST Square, 9 Km from Faisalabad Mot...                 Yes   \n",
       "\n",
       "  Hostel Accomodation                     BS in Engrr Programs/Total Fee  \\\n",
       "0                 Yes             [{'BSSE': 1145000}, {'BSEE': 1170500}]   \n",
       "1                  No             [{'BSSE': 1145000}, {'BSEE': 1170500}]   \n",
       "2                  No  [{'BSSE': 1145000}, {'BSEE': 1170500}, {'BSCE'...   \n",
       "3                  No             [{'BSSE': 1145000}, {'BSEE': 1170500}]   \n",
       "4                 Yes             [{'BSSE': 1145000}, {'BSEE': 1170500}]   \n",
       "\n",
       "  BS Admission Criteria (Engrr Programs)  \\\n",
       "0                   [60, 60, None, None]   \n",
       "1                   [60, 60, None, None]   \n",
       "2                   [60, 60, None, None]   \n",
       "3                   [60, 60, None, None]   \n",
       "4                   [60, 60, None, None]   \n",
       "\n",
       "                    BS in Science Programs/Total Fee  \\\n",
       "0  [{'BSAI': 1162000}, {'BSCS': 1145000}, {'BSRB'...   \n",
       "1  [{'BSAI': 1162000}, {'BSCS': 1145000}, {'BSRB'...   \n",
       "2  [{'BSCS': 1145000}, {'BSRB': 1196000}, {'BSAF'...   \n",
       "3  [{'BSAI': 1162000}, {'BSCS': 1145000}, {'BSRB'...   \n",
       "4  [{'BSAI': 1162000}, {'BSCS': 1145000}, {'BSRB'...   \n",
       "\n",
       "  BS Admission Criteria (Sciences Programs) BS in Arts-Commerce/Total Fee  \\\n",
       "0                      [60, 50, None, None]                        [None]   \n",
       "1                      [60, 50, None, None]            [{'BBA': 1145000}]   \n",
       "2                      [60, 50, None, None]            [{'BBA': 1145000}]   \n",
       "3                      [60, 50, None, None]                        [None]   \n",
       "4                      [60, 50, None, None]            [{'BBA': 1145000}]   \n",
       "\n",
       "  BS Admission Critera (Arts/Commerce)     MS in Sciences Programs/Total Fee  \\\n",
       "0                               [None]  [{'MSCS': 255000}, {'MSDS': 255000}]   \n",
       "1                 [60, 60, None, None]  [{'MSCS': 255000}, {'MSDS': 255000}]   \n",
       "2                 [60, 60, None, None]  [{'MSCS': 255000}, {'MSDS': 255000}]   \n",
       "3                               [None]  [{'MSCS': 255000}, {'MSDS': 255000}]   \n",
       "4                 [60, 60, None, None]  [{'MSCS': 255000}, {'MSDS': 255000}]   \n",
       "\n",
       "  MS Admission Criteria (Sciences Programs) MS in Engr Programs/Total Fee  \\\n",
       "0                                  [60, 50]            [{'MSEE': 255000}]   \n",
       "1                                  [60, 50]            [{'MSEE': 255000}]   \n",
       "2                                  [60, 50]            [{'MSEE': 255000}]   \n",
       "3                                  [60, 50]            [{'MSEE': 255000}]   \n",
       "4                                  [60, 50]            [{'MSEE': 255000}]   \n",
       "\n",
       "  MS Admission Criteria (Engr Programs) PHD in Sciences/Total Fee  \\\n",
       "0                              [60, 50]       [{'PHDCS': 153000}]   \n",
       "1                              [60, 50]       [{'PHDCS': 153000}]   \n",
       "2                              [60, 50]       [{'PHDCS': 153000}]   \n",
       "3                              [60, 50]       [{'PHDCS': 153000}]   \n",
       "4                              [60, 50]       [{'PHDCS': 153000}]   \n",
       "\n",
       "  PHD in Sciences Admission Criteria PHD in Engrr/Total Fee  \\\n",
       "0                           [70, 60]    [{'PHDEE': 153000}]   \n",
       "1                           [70, 60]    [{'PHDEE': 153000}]   \n",
       "2                           [70, 60]    [{'PHDEE': 153000}]   \n",
       "3                           [70, 60]    [{'PHDEE': 153000}]   \n",
       "4                           [70, 60]    [{'PHDEE': 153000}]   \n",
       "\n",
       "  PHD in Engrr Admission Criteria  \n",
       "0                        [70, 60]  \n",
       "1                        [70, 60]  \n",
       "2                        [70, 60]  \n",
       "3                        [70, 60]  \n",
       "4                        [70, 60]  "
      ]
     },
     "execution_count": 19,
     "metadata": {},
     "output_type": "execute_result"
    }
   ],
   "source": [
    "CR = pd.read_csv('./FAST.csv')\n",
    "CR.head()\n"
   ]
  },
  {
   "cell_type": "code",
   "execution_count": 40,
   "metadata": {},
   "outputs": [],
   "source": [
    "CSTR = \"mongodb://localhost:27017\"\n",
    "client = pymongo.MongoClient(CSTR)\n",
    "db = client.FYP\n",
    "col = db['University Data']\n"
   ]
  },
  {
   "cell_type": "code",
   "execution_count": 41,
   "metadata": {},
   "outputs": [
    {
     "name": "stdout",
     "output_type": "stream",
     "text": [
      "['University Data']\n"
     ]
    }
   ],
   "source": [
    "print(db.list_collection_names())\n"
   ]
  },
  {
   "cell_type": "code",
   "execution_count": 42,
   "metadata": {},
   "outputs": [
    {
     "name": "stdout",
     "output_type": "stream",
     "text": [
      "<class 'list'>\n",
      "[ObjectId('63430cfc8ec403e75c290e99'), ObjectId('63430cfc8ec403e75c290e9a'), ObjectId('63430cfc8ec403e75c290e9b'), ObjectId('63430cfc8ec403e75c290e9c'), ObjectId('63430cfc8ec403e75c290e9d')]\n"
     ]
    }
   ],
   "source": [
    "with open('./FAST.json') as f:\n",
    "    doc = f.read()\n",
    "\n",
    "# doc = fromjson(doc)\n",
    "doc = json.loads(doc)\n",
    "print(type(doc))\n",
    "collections = col.insert_many(doc)\n",
    "print(collections.inserted_ids)\n"
   ]
  },
  {
   "cell_type": "code",
   "execution_count": 43,
   "metadata": {},
   "outputs": [],
   "source": [
    "data = col.find({})\n",
    "dic = []\n",
    "for doc in data:\n",
    "    dic.append(doc)"
   ]
  },
  {
   "cell_type": "code",
   "execution_count": 44,
   "metadata": {},
   "outputs": [
    {
     "name": "stdout",
     "output_type": "stream",
     "text": [
      "[{'_id': ObjectId('63430cfc8ec403e75c290e99'), 'University': 'FAST NUCES', 'Campus': 'PWR', 'Exact Location': 'Jamrud Road 160 Industrial Estate Road, Phase 1 Hayatabad, Peshawar, Khyber Pakhtunkhwa, Pakistan', 'Scholarship OR Loan': 'Yes', 'Hostel Accomodation': 'Yes', 'BS in Engrr Programs/Total Fee': [{'BSSE': 1145000}, {'BSEE': 1170500}], 'BS Admission Criteria (Engrr Programs)': [60, 60, None, None], 'BS in Science Programs/Total Fee': [{'BSAI': 1162000}, {'BSCS': 1145000}, {'BSRB': 1196000}], 'BS Admission Criteria (Sciences Programs)': [60, 50, None, None], 'BS in Arts-Commerce/Total Fee': [None], 'BS Admission Critera (Arts/Commerce)': [None], 'MS in Sciences Programs/Total Fee': [{'MSCS': 255000}, {'MSDS': 255000}], 'MS Admission Criteria (Sciences Programs)': [60, 50], 'MS in Engr Programs/Total Fee': [{'MSEE': 255000}], 'MS Admission Criteria (Engr Programs)': [60, 50], 'PHD in Sciences/Total Fee': [{'PHDCS': 153000}], 'PHD in Sciences Admission Criteria': [70, 60], 'PHD in Engrr/Total Fee': [{'PHDEE': 153000}], 'PHD in Engrr Admission Criteria': [70, 60]}, {'_id': ObjectId('63430cfc8ec403e75c290e9a'), 'University': 'FAST NUCES', 'Campus': 'Islamabad', 'Exact Location': ' A.K Brohi Road, H 11/4, Islamabad', 'Scholarship OR Loan': 'Yes', 'Hostel Accomodation': 'No', 'BS in Engrr Programs/Total Fee': [{'BSSE': 1145000}, {'BSEE': 1170500}], 'BS Admission Criteria (Engrr Programs)': [60, 60, None, None], 'BS in Science Programs/Total Fee': [{'BSAI': 1162000}, {'BSCS': 1145000}, {'BSRB': 1196000}, {'BSAF': 1153500}, {'BSBA': 1145000}, {'BSCY': 1145000}, {'BSDS': 1162000}, {'BSFT': 1179000}], 'BS Admission Criteria (Sciences Programs)': [60, 50, None, None], 'BS in Arts-Commerce/Total Fee': [{'BBA': 1145000}], 'BS Admission Critera (Arts/Commerce)': [60, 60, None, None], 'MS in Sciences Programs/Total Fee': [{'MSCS': 255000}, {'MSDS': 255000}], 'MS Admission Criteria (Sciences Programs)': [60, 50], 'MS in Engr Programs/Total Fee': [{'MSEE': 255000}], 'MS Admission Criteria (Engr Programs)': [60, 50], 'PHD in Sciences/Total Fee': [{'PHDCS': 153000}], 'PHD in Sciences Admission Criteria': [70, 60], 'PHD in Engrr/Total Fee': [{'PHDEE': 153000}], 'PHD in Engrr Admission Criteria': [70, 60]}, {'_id': ObjectId('63430cfc8ec403e75c290e9b'), 'University': 'FAST NUCES', 'Campus': 'Lahore', 'Exact Location': 'Block-B, Faisal Town, Lahore.', 'Scholarship OR Loan': 'Yes', 'Hostel Accomodation': 'No', 'BS in Engrr Programs/Total Fee': [{'BSSE': 1145000}, {'BSEE': 1170500}, {'BSCE': 1196000}], 'BS Admission Criteria (Engrr Programs)': [60, 60, None, None], 'BS in Science Programs/Total Fee': [{'BSCS': 1145000}, {'BSRB': 1196000}, {'BSAF': 1153500}, {'BSBA': 1145000}, {'BSDS': 1162000}], 'BS Admission Criteria (Sciences Programs)': [60, 50, None, None], 'BS in Arts-Commerce/Total Fee': [{'BBA': 1145000}], 'BS Admission Critera (Arts/Commerce)': [60, 60, None, None], 'MS in Sciences Programs/Total Fee': [{'MSCS': 255000}, {'MSDS': 255000}], 'MS Admission Criteria (Sciences Programs)': [60, 50], 'MS in Engr Programs/Total Fee': [{'MSEE': 255000}], 'MS Admission Criteria (Engr Programs)': [60, 50], 'PHD in Sciences/Total Fee': [{'PHDCS': 153000}], 'PHD in Sciences Admission Criteria': [70, 60], 'PHD in Engrr/Total Fee': [{'PHDEE': 153000}], 'PHD in Engrr Admission Criteria': [70, 60]}, {'_id': ObjectId('63430cfc8ec403e75c290e9c'), 'University': 'FAST NUCES', 'Campus': 'Karachi', 'Exact Location': 'St-4 Sector 17-D On National Highway Karachi, Pakistan.', 'Scholarship OR Loan': 'Yes', 'Hostel Accomodation': 'No', 'BS in Engrr Programs/Total Fee': [{'BSSE': 1145000}, {'BSEE': 1170500}], 'BS Admission Criteria (Engrr Programs)': [60, 60, None, None], 'BS in Science Programs/Total Fee': [{'BSAI': 1162000}, {'BSCS': 1145000}, {'BSRB': 1196000}, {'BSBA': 1145000}, {'BSCY': 1145000}], 'BS Admission Criteria (Sciences Programs)': [60, 50, None, None], 'BS in Arts-Commerce/Total Fee': [None], 'BS Admission Critera (Arts/Commerce)': [None], 'MS in Sciences Programs/Total Fee': [{'MSCS': 255000}, {'MSDS': 255000}], 'MS Admission Criteria (Sciences Programs)': [60, 50], 'MS in Engr Programs/Total Fee': [{'MSEE': 255000}], 'MS Admission Criteria (Engr Programs)': [60, 50], 'PHD in Sciences/Total Fee': [{'PHDCS': 153000}], 'PHD in Sciences Admission Criteria': [70, 60], 'PHD in Engrr/Total Fee': [{'PHDEE': 153000}], 'PHD in Engrr Admission Criteria': [70, 60]}, {'_id': ObjectId('63430cfc8ec403e75c290e9d'), 'University': 'FAST NUCES', 'Campus': 'Chiniot-Faisalabad', 'Exact Location': 'FAST-NU, FAST Square, 9 Km from Faisalabad Motorway Interchange towards Chiniot', 'Scholarship OR Loan': 'Yes', 'Hostel Accomodation': 'Yes', 'BS in Engrr Programs/Total Fee': [{'BSSE': 1145000}, {'BSEE': 1170500}], 'BS Admission Criteria (Engrr Programs)': [60, 60, None, None], 'BS in Science Programs/Total Fee': [{'BSAI': 1162000}, {'BSCS': 1145000}, {'BSRB': 1196000}, {'BSBA': 1145000}], 'BS Admission Criteria (Sciences Programs)': [60, 50, None, None], 'BS in Arts-Commerce/Total Fee': [{'BBA': 1145000}], 'BS Admission Critera (Arts/Commerce)': [60, 60, None, None], 'MS in Sciences Programs/Total Fee': [{'MSCS': 255000}, {'MSDS': 255000}], 'MS Admission Criteria (Sciences Programs)': [60, 50], 'MS in Engr Programs/Total Fee': [{'MSEE': 255000}], 'MS Admission Criteria (Engr Programs)': [60, 50], 'PHD in Sciences/Total Fee': [{'PHDCS': 153000}], 'PHD in Sciences Admission Criteria': [70, 60], 'PHD in Engrr/Total Fee': [{'PHDEE': 153000}], 'PHD in Engrr Admission Criteria': [70, 60]}]\n"
     ]
    }
   ],
   "source": [
    "print(dic)"
   ]
  },
  {
   "cell_type": "code",
   "execution_count": 48,
   "metadata": {},
   "outputs": [
    {
     "name": "stdout",
     "output_type": "stream",
     "text": [
      "<class 'list'>\n",
      "<class 'dict'>\n"
     ]
    }
   ],
   "source": [
    "print(type(dic))\n",
    "print(type(dic[0]))\n"
   ]
  },
  {
   "cell_type": "code",
   "execution_count": null,
   "metadata": {},
   "outputs": [],
   "source": []
  }
 ],
 "metadata": {
  "kernelspec": {
   "display_name": "Python 3.10.7 64-bit",
   "language": "python",
   "name": "python3"
  },
  "language_info": {
   "codemirror_mode": {
    "name": "ipython",
    "version": 3
   },
   "file_extension": ".py",
   "mimetype": "text/x-python",
   "name": "python",
   "nbconvert_exporter": "python",
   "pygments_lexer": "ipython3",
   "version": "3.10.7"
  },
  "orig_nbformat": 4,
  "vscode": {
   "interpreter": {
    "hash": "f2ccb58c476f33ba3e3aee7ac07234ef6b8217ef24ad64d2a7d4fed1a57c1cd2"
   }
  }
 },
 "nbformat": 4,
 "nbformat_minor": 2
}
